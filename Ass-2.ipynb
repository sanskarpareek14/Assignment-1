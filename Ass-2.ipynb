{
 "cells": [
  {
   "cell_type": "markdown",
   "id": "48527456",
   "metadata": {},
   "source": [
    "## ASSIGNMENT - 2\n",
    "##  REFERRAL ID - SIRSS2109\n"
   ]
  },
  {
   "cell_type": "markdown",
   "id": "086a87cb",
   "metadata": {},
   "source": [
    "### Q1 Write a lambda expression to extract first word of a string."
   ]
  },
  {
   "cell_type": "code",
   "execution_count": 29,
   "id": "38961379",
   "metadata": {},
   "outputs": [
    {
     "data": {
      "text/plain": [
       "'Learning'"
      ]
     },
     "execution_count": 29,
     "metadata": {},
     "output_type": "execute_result"
    }
   ],
   "source": [
    "str = \"Learning ML and DL\"\n",
    "x = lambda s: s.split()[0]\n",
    "x(str)"
   ]
  },
  {
   "cell_type": "markdown",
   "id": "a7c6d15b",
   "metadata": {},
   "source": [
    "### Q2 Write a function to extract first word of s string (with many words separated by space)."
   ]
  },
  {
   "cell_type": "code",
   "execution_count": 30,
   "id": "5950690e",
   "metadata": {},
   "outputs": [
    {
     "data": {
      "text/plain": [
       "'Function'"
      ]
     },
     "execution_count": 30,
     "metadata": {},
     "output_type": "execute_result"
    }
   ],
   "source": [
    "def splt(s):\n",
    "    return s.split()[0]\n",
    "s = \"Function to extract first word\"\n",
    "splt(s)"
   ]
  },
  {
   "cell_type": "markdown",
   "id": "1a893247",
   "metadata": {},
   "source": [
    "### Q3 Extract the first word from every string from a list of strings by using map function.\n"
   ]
  },
  {
   "cell_type": "code",
   "execution_count": 31,
   "id": "4df703c2",
   "metadata": {},
   "outputs": [
    {
     "data": {
      "text/plain": [
       "['Chris', 'Johnny', 'Hawk', 'Tony']"
      ]
     },
     "execution_count": 31,
     "metadata": {},
     "output_type": "execute_result"
    }
   ],
   "source": [
    "data = [\"Chris Evans\",\"Johnny Bairstrow\",\"Hawk Eye\",\"Tony Stark\"]\n",
    "x = list(map(lambda x: x.split()[0],data))\n",
    "x"
   ]
  },
  {
   "cell_type": "markdown",
   "id": "4446e1f4",
   "metadata": {},
   "source": [
    "### Q4 Write a function to return a list of prime factors of a given number."
   ]
  },
  {
   "cell_type": "code",
   "execution_count": 32,
   "id": "29d01d79",
   "metadata": {},
   "outputs": [
    {
     "name": "stdout",
     "output_type": "stream",
     "text": [
      "Enter a number: 34\n"
     ]
    },
    {
     "data": {
      "text/plain": [
       "[2, 17]"
      ]
     },
     "execution_count": 32,
     "metadata": {},
     "output_type": "execute_result"
    }
   ],
   "source": [
    "find = int(input(\"Enter a number: \"))\n",
    "lst = []\n",
    "def primefac(x):\n",
    "    while x%2==0:\n",
    "        lst.append(2)\n",
    "        x /= 2\n",
    "    for i in range(3,int(x**0.5)):\n",
    "        while x%i==0:\n",
    "            lst.append(i)\n",
    "            x /= i\n",
    "    if x>2:\n",
    "        lst.append(int(x))\n",
    "primefac(find)\n",
    "lst"
   ]
  },
  {
   "cell_type": "markdown",
   "id": "afb45f4b",
   "metadata": {},
   "source": [
    "### Q5 Write a function that finds 2nd largest among 4 numbers (Repetitions are allowed, without sorting)."
   ]
  },
  {
   "cell_type": "code",
   "execution_count": 33,
   "id": "b8633bb9",
   "metadata": {},
   "outputs": [
    {
     "name": "stdout",
     "output_type": "stream",
     "text": [
      "Enter a number: 45\n",
      "Enter a number: 12\n",
      "Enter a number: 34\n",
      "Enter a number: 89\n"
     ]
    },
    {
     "data": {
      "text/plain": [
       "45"
      ]
     },
     "execution_count": 33,
     "metadata": {},
     "output_type": "execute_result"
    }
   ],
   "source": [
    "lst = []\n",
    "for i in range(0,4):\n",
    "    num = int(input(\"Enter a number: \"))\n",
    "    lst.append(num)\n",
    "lst.remove(max(lst))\n",
    "y = max(lst)\n",
    "y"
   ]
  },
  {
   "cell_type": "code",
   "execution_count": null,
   "id": "94282d0e",
   "metadata": {},
   "outputs": [],
   "source": []
  }
 ],
 "metadata": {
  "kernelspec": {
   "display_name": "Python 3",
   "language": "python",
   "name": "python3"
  },
  "language_info": {
   "codemirror_mode": {
    "name": "ipython",
    "version": 3
   },
   "file_extension": ".py",
   "mimetype": "text/x-python",
   "name": "python",
   "nbconvert_exporter": "python",
   "pygments_lexer": "ipython3",
   "version": "3.8.8"
  }
 },
 "nbformat": 4,
 "nbformat_minor": 5
}
