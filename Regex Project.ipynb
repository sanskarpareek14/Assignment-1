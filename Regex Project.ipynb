{
  "nbformat": 4,
  "nbformat_minor": 5,
  "metadata": {
    "accelerator": "GPU",
    "colab": {
      "name": "Project_Regex.ipynb",
      "provenance": [],
      "collapsed_sections": []
    },
    "kernelspec": {
      "display_name": "Python 3",
      "language": "python",
      "name": "python3"
    },
    "language_info": {
      "codemirror_mode": {
        "name": "ipython",
        "version": 3
      },
      "file_extension": ".py",
      "mimetype": "text/x-python",
      "name": "python",
      "nbconvert_exporter": "python",
      "pygments_lexer": "ipython3",
      "version": "3.8.8"
    }
  },
  "cells": [
    {
      "cell_type": "markdown",
      "metadata": {
        "id": "BI-bheS3PF69"
      },
      "source": [
        "# REGEX PROJECT\n",
        "**Flipkart_ Ratings Review**\n",
        "\n",
        "Team Members:\n",
        "\n",
        "1. Sanjay Dey\n",
        "2. Sanskar Pareek\n",
        "3. Sakshi Chavan\n",
        "4. Yashika Verma\n",
        "5. Bhanavi Singh"
      ],
      "id": "BI-bheS3PF69"
    },
    {
      "cell_type": "code",
      "metadata": {
        "id": "3c2iUB6JPUan"
      },
      "source": [
        "# First, let's import the necessary libraries\n",
        "import numpy as np\n",
        "import pandas as pd\n",
        "import matplotlib.pyplot as plt\n",
        "import seaborn as sns\n",
        "%matplotlib inline"
      ],
      "id": "3c2iUB6JPUan",
      "execution_count": 1,
      "outputs": []
    },
    {
      "cell_type": "code",
      "metadata": {
        "colab": {
          "resources": {
            "http://localhost:8080/nbextensions/google.colab/files.js": {
              "data": "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",
              "ok": true,
              "headers": [
                [
                  "content-type",
                  "application/javascript"
                ]
              ],
              "status": 200,
              "status_text": ""
            }
          },
          "base_uri": "https://localhost:8080/",
          "height": 73
        },
        "id": "e6fba8e6",
        "outputId": "f24dca25-f43a-415c-a6d9-b0e687144b60"
      },
      "source": [
        "from google.colab import files\n",
        "data_to_load = files.upload()"
      ],
      "id": "e6fba8e6",
      "execution_count": 2,
      "outputs": [
        {
          "output_type": "display_data",
          "data": {
            "text/html": [
              "\n",
              "     <input type=\"file\" id=\"files-269dbf55-b2e6-4219-a2e9-422ee9976ac2\" name=\"files[]\" multiple disabled\n",
              "        style=\"border:none\" />\n",
              "     <output id=\"result-269dbf55-b2e6-4219-a2e9-422ee9976ac2\">\n",
              "      Upload widget is only available when the cell has been executed in the\n",
              "      current browser session. Please rerun this cell to enable.\n",
              "      </output>\n",
              "      <script src=\"/nbextensions/google.colab/files.js\"></script> "
            ],
            "text/plain": [
              "<IPython.core.display.HTML object>"
            ]
          },
          "metadata": {}
        },
        {
          "output_type": "stream",
          "name": "stdout",
          "text": [
            "Saving Flipkart_ratings.csv to Flipkart_ratings.csv\n"
          ]
        }
      ]
    },
    {
      "cell_type": "code",
      "metadata": {
        "id": "b8d0209e",
        "colab": {
          "base_uri": "https://localhost:8080/",
          "height": 576
        },
        "outputId": "4a715406-3205-4805-f3bf-6964e0f65ba7"
      },
      "source": [
        "# Read the csv file for analysis\n",
        "df = pd.read_csv('Flipkart_ratings.csv')\n",
        "df.head()"
      ],
      "id": "b8d0209e",
      "execution_count": 3,
      "outputs": [
        {
          "output_type": "execute_result",
          "data": {
            "text/html": [
              "<div>\n",
              "<style scoped>\n",
              "    .dataframe tbody tr th:only-of-type {\n",
              "        vertical-align: middle;\n",
              "    }\n",
              "\n",
              "    .dataframe tbody tr th {\n",
              "        vertical-align: top;\n",
              "    }\n",
              "\n",
              "    .dataframe thead th {\n",
              "        text-align: right;\n",
              "    }\n",
              "</style>\n",
              "<table border=\"1\" class=\"dataframe\">\n",
              "  <thead>\n",
              "    <tr style=\"text-align: right;\">\n",
              "      <th></th>\n",
              "      <th>marketplace</th>\n",
              "      <th>customer_id</th>\n",
              "      <th>review_id</th>\n",
              "      <th>product_title</th>\n",
              "      <th>product_category</th>\n",
              "      <th>star_rating</th>\n",
              "      <th>helpful_votes</th>\n",
              "      <th>total_votes</th>\n",
              "      <th>vine</th>\n",
              "      <th>verified_purchase</th>\n",
              "      <th>review_headline</th>\n",
              "      <th>review_body</th>\n",
              "      <th>review_date</th>\n",
              "    </tr>\n",
              "  </thead>\n",
              "  <tbody>\n",
              "    <tr>\n",
              "      <th>0</th>\n",
              "      <td>US</td>\n",
              "      <td>41099022</td>\n",
              "      <td>R59VGL4HIPFDP</td>\n",
              "      <td>Foscam FI8910W Wireless/Wired Pan &amp; Tilt IP/Ne...</td>\n",
              "      <td>Camera</td>\n",
              "      <td>1</td>\n",
              "      <td>0</td>\n",
              "      <td>1</td>\n",
              "      <td>N</td>\n",
              "      <td>Y</td>\n",
              "      <td>One Star</td>\n",
              "      <td>garbage</td>\n",
              "      <td>31-08-2015</td>\n",
              "    </tr>\n",
              "    <tr>\n",
              "      <th>1</th>\n",
              "      <td>US</td>\n",
              "      <td>15744366</td>\n",
              "      <td>R3GR0Z9Z4Z1295</td>\n",
              "      <td>Foscam FI8910W Wireless/Wired Pan &amp; Tilt IP/Ne...</td>\n",
              "      <td>Camera</td>\n",
              "      <td>1</td>\n",
              "      <td>0</td>\n",
              "      <td>0</td>\n",
              "      <td>N</td>\n",
              "      <td>N</td>\n",
              "      <td>Doesn't work as advertised</td>\n",
              "      <td>Didn't work as advertised, there was no sound ...</td>\n",
              "      <td>31-08-2015</td>\n",
              "    </tr>\n",
              "    <tr>\n",
              "      <th>2</th>\n",
              "      <td>US</td>\n",
              "      <td>46165193</td>\n",
              "      <td>R8R09HXXQHIWN</td>\n",
              "      <td>Foscam FI8910W Wireless/Wired Pan &amp; Tilt IP/Ne...</td>\n",
              "      <td>Camera</td>\n",
              "      <td>1</td>\n",
              "      <td>0</td>\n",
              "      <td>0</td>\n",
              "      <td>N</td>\n",
              "      <td>Y</td>\n",
              "      <td>One Star</td>\n",
              "      <td>Setup way to complicated for the average user.</td>\n",
              "      <td>30-08-2015</td>\n",
              "    </tr>\n",
              "    <tr>\n",
              "      <th>3</th>\n",
              "      <td>US</td>\n",
              "      <td>31009192</td>\n",
              "      <td>R19JT1LFVNATBG</td>\n",
              "      <td>Foscam FI8910W Wireless/Wired Pan &amp; Tilt IP/Ne...</td>\n",
              "      <td>Camera</td>\n",
              "      <td>5</td>\n",
              "      <td>0</td>\n",
              "      <td>0</td>\n",
              "      <td>N</td>\n",
              "      <td>N</td>\n",
              "      <td>We love the camera but had a lot of difficulty...</td>\n",
              "      <td>We purchased a Foscam about 6 months ago. We l...</td>\n",
              "      <td>30-08-2015</td>\n",
              "    </tr>\n",
              "    <tr>\n",
              "      <th>4</th>\n",
              "      <td>US</td>\n",
              "      <td>52865176</td>\n",
              "      <td>R2SCARC7V2J64P</td>\n",
              "      <td>Foscam FI8910W Wireless/Wired Pan &amp; Tilt IP/Ne...</td>\n",
              "      <td>Camera</td>\n",
              "      <td>2</td>\n",
              "      <td>0</td>\n",
              "      <td>0</td>\n",
              "      <td>N</td>\n",
              "      <td>N</td>\n",
              "      <td>Saved Grandma but camera died after 2 yrs</td>\n",
              "      <td>Worked for 2 yrs as a 'granny cam' and saved h...</td>\n",
              "      <td>29-08-2015</td>\n",
              "    </tr>\n",
              "  </tbody>\n",
              "</table>\n",
              "</div>"
            ],
            "text/plain": [
              "  marketplace  ...  review_date\n",
              "0          US  ...   31-08-2015\n",
              "1          US  ...   31-08-2015\n",
              "2          US  ...   30-08-2015\n",
              "3          US  ...   30-08-2015\n",
              "4          US  ...   29-08-2015\n",
              "\n",
              "[5 rows x 13 columns]"
            ]
          },
          "metadata": {},
          "execution_count": 3
        }
      ]
    },
    {
      "cell_type": "markdown",
      "metadata": {
        "id": "402fde38"
      },
      "source": [
        "### Getting general information about our dataset"
      ],
      "id": "402fde38"
    },
    {
      "cell_type": "code",
      "metadata": {
        "id": "443735f7",
        "colab": {
          "base_uri": "https://localhost:8080/"
        },
        "outputId": "05fa40fb-ca24-4e1b-ad02-8bcc1f417aac"
      },
      "source": [
        "df.info()"
      ],
      "id": "443735f7",
      "execution_count": 4,
      "outputs": [
        {
          "output_type": "stream",
          "name": "stdout",
          "text": [
            "<class 'pandas.core.frame.DataFrame'>\n",
            "RangeIndex: 4652 entries, 0 to 4651\n",
            "Data columns (total 13 columns):\n",
            " #   Column             Non-Null Count  Dtype \n",
            "---  ------             --------------  ----- \n",
            " 0   marketplace        4652 non-null   object\n",
            " 1   customer_id        4652 non-null   int64 \n",
            " 2   review_id          4652 non-null   object\n",
            " 3   product_title      4652 non-null   object\n",
            " 4   product_category   4652 non-null   object\n",
            " 5   star_rating        4652 non-null   int64 \n",
            " 6   helpful_votes      4652 non-null   int64 \n",
            " 7   total_votes        4652 non-null   int64 \n",
            " 8   vine               4652 non-null   object\n",
            " 9   verified_purchase  4652 non-null   object\n",
            " 10  review_headline    4652 non-null   object\n",
            " 11  review_body        4652 non-null   object\n",
            " 12  review_date        4652 non-null   object\n",
            "dtypes: int64(4), object(9)\n",
            "memory usage: 472.6+ KB\n"
          ]
        }
      ]
    },
    {
      "cell_type": "code",
      "metadata": {
        "id": "141d1770",
        "colab": {
          "base_uri": "https://localhost:8080/",
          "height": 295
        },
        "outputId": "e98e4eef-ac03-424f-9ffb-0513da12146c"
      },
      "source": [
        "df.describe()"
      ],
      "id": "141d1770",
      "execution_count": 5,
      "outputs": [
        {
          "output_type": "execute_result",
          "data": {
            "text/html": [
              "<div>\n",
              "<style scoped>\n",
              "    .dataframe tbody tr th:only-of-type {\n",
              "        vertical-align: middle;\n",
              "    }\n",
              "\n",
              "    .dataframe tbody tr th {\n",
              "        vertical-align: top;\n",
              "    }\n",
              "\n",
              "    .dataframe thead th {\n",
              "        text-align: right;\n",
              "    }\n",
              "</style>\n",
              "<table border=\"1\" class=\"dataframe\">\n",
              "  <thead>\n",
              "    <tr style=\"text-align: right;\">\n",
              "      <th></th>\n",
              "      <th>customer_id</th>\n",
              "      <th>star_rating</th>\n",
              "      <th>helpful_votes</th>\n",
              "      <th>total_votes</th>\n",
              "    </tr>\n",
              "  </thead>\n",
              "  <tbody>\n",
              "    <tr>\n",
              "      <th>count</th>\n",
              "      <td>4.652000e+03</td>\n",
              "      <td>4652.000000</td>\n",
              "      <td>4652.000000</td>\n",
              "      <td>4652.000000</td>\n",
              "    </tr>\n",
              "    <tr>\n",
              "      <th>mean</th>\n",
              "      <td>3.042493e+07</td>\n",
              "      <td>4.008169</td>\n",
              "      <td>1.767627</td>\n",
              "      <td>2.535039</td>\n",
              "    </tr>\n",
              "    <tr>\n",
              "      <th>std</th>\n",
              "      <td>1.459990e+07</td>\n",
              "      <td>1.390115</td>\n",
              "      <td>44.011555</td>\n",
              "      <td>46.952126</td>\n",
              "    </tr>\n",
              "    <tr>\n",
              "      <th>min</th>\n",
              "      <td>3.810300e+04</td>\n",
              "      <td>1.000000</td>\n",
              "      <td>0.000000</td>\n",
              "      <td>0.000000</td>\n",
              "    </tr>\n",
              "    <tr>\n",
              "      <th>25%</th>\n",
              "      <td>1.659627e+07</td>\n",
              "      <td>4.000000</td>\n",
              "      <td>0.000000</td>\n",
              "      <td>0.000000</td>\n",
              "    </tr>\n",
              "    <tr>\n",
              "      <th>50%</th>\n",
              "      <td>3.035087e+07</td>\n",
              "      <td>5.000000</td>\n",
              "      <td>0.000000</td>\n",
              "      <td>0.000000</td>\n",
              "    </tr>\n",
              "    <tr>\n",
              "      <th>75%</th>\n",
              "      <td>4.409701e+07</td>\n",
              "      <td>5.000000</td>\n",
              "      <td>0.000000</td>\n",
              "      <td>1.000000</td>\n",
              "    </tr>\n",
              "    <tr>\n",
              "      <th>max</th>\n",
              "      <td>5.309641e+07</td>\n",
              "      <td>5.000000</td>\n",
              "      <td>2131.000000</td>\n",
              "      <td>2269.000000</td>\n",
              "    </tr>\n",
              "  </tbody>\n",
              "</table>\n",
              "</div>"
            ],
            "text/plain": [
              "        customer_id  star_rating  helpful_votes  total_votes\n",
              "count  4.652000e+03  4652.000000    4652.000000  4652.000000\n",
              "mean   3.042493e+07     4.008169       1.767627     2.535039\n",
              "std    1.459990e+07     1.390115      44.011555    46.952126\n",
              "min    3.810300e+04     1.000000       0.000000     0.000000\n",
              "25%    1.659627e+07     4.000000       0.000000     0.000000\n",
              "50%    3.035087e+07     5.000000       0.000000     0.000000\n",
              "75%    4.409701e+07     5.000000       0.000000     1.000000\n",
              "max    5.309641e+07     5.000000    2131.000000  2269.000000"
            ]
          },
          "metadata": {},
          "execution_count": 5
        }
      ]
    },
    {
      "cell_type": "code",
      "metadata": {
        "id": "597dd4af",
        "colab": {
          "base_uri": "https://localhost:8080/"
        },
        "outputId": "7ff8a336-2789-4f6e-b41b-2b26f98ff914"
      },
      "source": [
        "df.shape"
      ],
      "id": "597dd4af",
      "execution_count": 6,
      "outputs": [
        {
          "output_type": "execute_result",
          "data": {
            "text/plain": [
              "(4652, 13)"
            ]
          },
          "metadata": {},
          "execution_count": 6
        }
      ]
    },
    {
      "cell_type": "code",
      "metadata": {
        "id": "765fa78a",
        "colab": {
          "base_uri": "https://localhost:8080/"
        },
        "outputId": "60177741-60b5-45a2-e0df-335b0fcb9099"
      },
      "source": [
        "# Check if there are any null values or not\n",
        "df.isnull().sum()"
      ],
      "id": "765fa78a",
      "execution_count": 7,
      "outputs": [
        {
          "output_type": "execute_result",
          "data": {
            "text/plain": [
              "marketplace          0\n",
              "customer_id          0\n",
              "review_id            0\n",
              "product_title        0\n",
              "product_category     0\n",
              "star_rating          0\n",
              "helpful_votes        0\n",
              "total_votes          0\n",
              "vine                 0\n",
              "verified_purchase    0\n",
              "review_headline      0\n",
              "review_body          0\n",
              "review_date          0\n",
              "dtype: int64"
            ]
          },
          "metadata": {},
          "execution_count": 7
        }
      ]
    },
    {
      "cell_type": "code",
      "metadata": {
        "id": "83d475bc",
        "colab": {
          "base_uri": "https://localhost:8080/"
        },
        "outputId": "47bbc082-c6f3-422c-81d5-d10553438980"
      },
      "source": [
        "# Check if there are any duplicate entries or not\n",
        "df.duplicated().sum()"
      ],
      "id": "83d475bc",
      "execution_count": 8,
      "outputs": [
        {
          "output_type": "execute_result",
          "data": {
            "text/plain": [
              "0"
            ]
          },
          "metadata": {},
          "execution_count": 8
        }
      ]
    },
    {
      "cell_type": "code",
      "metadata": {
        "id": "7259e8ca",
        "colab": {
          "base_uri": "https://localhost:8080/"
        },
        "outputId": "dad969aa-aa26-4008-eaa9-9c7ac3deb0a6"
      },
      "source": [
        "df['product_title'].nunique()"
      ],
      "id": "7259e8ca",
      "execution_count": 9,
      "outputs": [
        {
          "output_type": "execute_result",
          "data": {
            "text/plain": [
              "1"
            ]
          },
          "metadata": {},
          "execution_count": 9
        }
      ]
    },
    {
      "cell_type": "code",
      "metadata": {
        "id": "6be544e9",
        "colab": {
          "base_uri": "https://localhost:8080/",
          "height": 786
        },
        "outputId": "c61bd268-f046-447c-b241-a88ab1be97ec"
      },
      "source": [
        "# A Violin Plot is used to visualise the distribution of the data and its probability density.Here,this plot shows total votes\n",
        "#  count based on product title \n",
        "plt.figure(figsize=(20,12))\n",
        "sns.violinplot(df['product_title'],df['total_votes'],data=df)"
      ],
      "id": "6be544e9",
      "execution_count": 10,
      "outputs": [
        {
          "output_type": "stream",
          "name": "stderr",
          "text": [
            "/usr/local/lib/python3.7/dist-packages/seaborn/_decorators.py:43: FutureWarning: Pass the following variables as keyword args: x, y. From version 0.12, the only valid positional argument will be `data`, and passing other arguments without an explicit keyword will result in an error or misinterpretation.\n",
            "  FutureWarning\n"
          ]
        },
        {
          "output_type": "execute_result",
          "data": {
            "text/plain": [
              "<matplotlib.axes._subplots.AxesSubplot at 0x7f910bc441d0>"
            ]
          },
          "metadata": {},
          "execution_count": 10
        },
        {
          "output_type": "display_data",
          "data": {
            "image/png": "[encoded data removed]",
            "text/plain": [
              "<Figure size 1440x864 with 1 Axes>"
            ]
          },
          "metadata": {
            "needs_background": "light"
          }
        }
      ]
    },
    {
      "cell_type": "code",
      "metadata": {
        "id": "fa0c23f9",
        "colab": {
          "base_uri": "https://localhost:8080/",
          "height": 677
        },
        "outputId": "f36f03aa-cbf7-4d98-839f-85f21d379904"
      },
      "source": [
        "# This plot shows count of total votes based on star rating\n",
        "plt.figure(figsize=(15,10))\n",
        "sns.barplot(df['star_rating'],df['total_votes'],data=df)"
      ],
      "id": "fa0c23f9",
      "execution_count": 11,
      "outputs": [
        {
          "output_type": "stream",
          "name": "stderr",
          "text": [
            "/usr/local/lib/python3.7/dist-packages/seaborn/_decorators.py:43: FutureWarning: Pass the following variables as keyword args: x, y. From version 0.12, the only valid positional argument will be `data`, and passing other arguments without an explicit keyword will result in an error or misinterpretation.\n",
            "  FutureWarning\n"
          ]
        },
        {
          "output_type": "execute_result",
          "data": {
            "text/plain": [
              "<matplotlib.axes._subplots.AxesSubplot at 0x7f910c649ad0>"
            ]
          },
          "metadata": {},
          "execution_count": 11
        },
        {
          "output_type": "display_data",
          "data": {
            "image/png": "[encoded data removed]",
            "text/plain": [
              "<Figure size 1080x720 with 1 Axes>"
            ]
          },
          "metadata": {
            "needs_background": "light"
          }
        }
      ]
    },
    {
      "cell_type": "code",
      "metadata": {
        "id": "96992a2f",
        "colab": {
          "base_uri": "https://localhost:8080/",
          "height": 677
        },
        "outputId": "39bfeb10-9244-48df-db09-111b9cae5403"
      },
      "source": [
        "plt.figure(figsize=(10,10))\n",
        "sns.lineplot(df['verified_purchase'],df['star_rating'],data=df)"
      ],
      "id": "96992a2f",
      "execution_count": 12,
      "outputs": [
        {
          "output_type": "stream",
          "name": "stderr",
          "text": [
            "/usr/local/lib/python3.7/dist-packages/seaborn/_decorators.py:43: FutureWarning: Pass the following variables as keyword args: x, y. From version 0.12, the only valid positional argument will be `data`, and passing other arguments without an explicit keyword will result in an error or misinterpretation.\n",
            "  FutureWarning\n"
          ]
        },
        {
          "output_type": "execute_result",
          "data": {
            "text/plain": [
              "<matplotlib.axes._subplots.AxesSubplot at 0x7f9109975b90>"
            ]
          },
          "metadata": {},
          "execution_count": 12
        },
        {
          "output_type": "display_data",
          "data": {
            "image/png": "[encoded data removed]",
            "text/plain": [
              "<Figure size 720x720 with 1 Axes>"
            ]
          },
          "metadata": {
            "needs_background": "light"
          }
        }
      ]
    },
    {
      "cell_type": "code",
      "metadata": {
        "id": "8a02b35a",
        "colab": {
          "base_uri": "https://localhost:8080/",
          "height": 677
        },
        "outputId": "9abd37e3-579f-4011-a089-690b69ef8ebd"
      },
      "source": [
        "# In lineplot() Draw a line plot with the possibility of several semantic groupings. \n",
        "# These parameters control what visual semantics are used to identify the different subsets.¶\n",
        "# In this plot we have plotted verified purchase VS star rating plot based on total votes\n",
        "plt.figure(figsize=(10,10))\n",
        "sns.lineplot(df['verified_purchase'],df['star_rating'],hue=df['total_votes'],data=df)"
      ],
      "id": "8a02b35a",
      "execution_count": 13,
      "outputs": [
        {
          "output_type": "stream",
          "name": "stderr",
          "text": [
            "/usr/local/lib/python3.7/dist-packages/seaborn/_decorators.py:43: FutureWarning: Pass the following variables as keyword args: x, y. From version 0.12, the only valid positional argument will be `data`, and passing other arguments without an explicit keyword will result in an error or misinterpretation.\n",
            "  FutureWarning\n"
          ]
        },
        {
          "output_type": "execute_result",
          "data": {
            "text/plain": [
              "<matplotlib.axes._subplots.AxesSubplot at 0x7f91093c6610>"
            ]
          },
          "metadata": {},
          "execution_count": 13
        },
        {
          "output_type": "display_data",
          "data": {
            "image/png": "[encoded data removed]",
            "text/plain": [
              "<Figure size 720x720 with 1 Axes>"
            ]
          },
          "metadata": {
            "needs_background": "light"
          }
        }
      ]
    },
    {
      "cell_type": "code",
      "metadata": {
        "id": "23b761cf",
        "colab": {
          "base_uri": "https://localhost:8080/",
          "height": 786
        },
        "outputId": "9d6ce3bc-8492-4006-d834-d826057d3e1c"
      },
      "source": [
        "# This plot shows verfifed purchase graph based on helpful votes which we got from customer\n",
        "plt.figure(figsize=(15,12))\n",
        "sns.lineplot(df['helpful_votes'],df['verified_purchase'],data=df)"
      ],
      "id": "23b761cf",
      "execution_count": 14,
      "outputs": [
        {
          "output_type": "stream",
          "name": "stderr",
          "text": [
            "/usr/local/lib/python3.7/dist-packages/seaborn/_decorators.py:43: FutureWarning: Pass the following variables as keyword args: x, y. From version 0.12, the only valid positional argument will be `data`, and passing other arguments without an explicit keyword will result in an error or misinterpretation.\n",
            "  FutureWarning\n"
          ]
        },
        {
          "output_type": "execute_result",
          "data": {
            "text/plain": [
              "<matplotlib.axes._subplots.AxesSubplot at 0x7f91093b1e10>"
            ]
          },
          "metadata": {},
          "execution_count": 14
        },
        {
          "output_type": "display_data",
          "data": {
            "image/png": "[encoded data removed]",
            "text/plain": [
              "<Figure size 1080x864 with 1 Axes>"
            ]
          },
          "metadata": {
            "needs_background": "light"
          }
        }
      ]
    },
    {
      "cell_type": "code",
      "metadata": {
        "id": "da20afd1"
      },
      "source": [
        "df['Sentiment'] = [1 if x > 3 else 0 for x in df.star_rating]  #0-negative 1-positive"
      ],
      "id": "da20afd1",
      "execution_count": 15,
      "outputs": []
    },
    {
      "cell_type": "code",
      "metadata": {
        "id": "aef4c546",
        "colab": {
          "base_uri": "https://localhost:8080/"
        },
        "outputId": "a9f3387c-f0de-4fd3-ebfe-0f74b6161cd0"
      },
      "source": [
        "df['Sentiment']"
      ],
      "id": "aef4c546",
      "execution_count": 16,
      "outputs": [
        {
          "output_type": "execute_result",
          "data": {
            "text/plain": [
              "0       0\n",
              "1       0\n",
              "2       0\n",
              "3       1\n",
              "4       0\n",
              "       ..\n",
              "4647    0\n",
              "4648    1\n",
              "4649    1\n",
              "4650    1\n",
              "4651    0\n",
              "Name: Sentiment, Length: 4652, dtype: int64"
            ]
          },
          "metadata": {},
          "execution_count": 16
        }
      ]
    },
    {
      "cell_type": "code",
      "metadata": {
        "id": "af43d7c1",
        "colab": {
          "base_uri": "https://localhost:8080/",
          "height": 296
        },
        "outputId": "aee85e50-66bd-48fc-88cc-fd14aecfc74f"
      },
      "source": [
        "# Sentiment VS star rating plot\n",
        "sns.barplot(x=df['Sentiment'],y=df['star_rating'])"
      ],
      "id": "af43d7c1",
      "execution_count": 17,
      "outputs": [
        {
          "output_type": "execute_result",
          "data": {
            "text/plain": [
              "<matplotlib.axes._subplots.AxesSubplot at 0x7f91079d5c50>"
            ]
          },
          "metadata": {},
          "execution_count": 17
        },
        {
          "output_type": "display_data",
          "data": {
            "image/png": "[encoded data removed]",
            "text/plain": [
              "<Figure size 432x288 with 1 Axes>"
            ]
          },
          "metadata": {
            "needs_background": "light"
          }
        }
      ]
    },
    {
      "cell_type": "code",
      "metadata": {
        "colab": {
          "base_uri": "https://localhost:8080/"
        },
        "id": "ejzl8hBjP1SD",
        "outputId": "17abf7f5-2701-4647-d338-6ec09d71925c"
      },
      "source": [
        "\n",
        "import re\n",
        "import nltk\n",
        "\n",
        "nltk.download('stopwords')\n",
        "\n",
        "from nltk.corpus import stopwords\n",
        "from nltk.stem.porter import PorterStemmer\n",
        "ps = PorterStemmer()\n",
        "\n",
        "all_stopwords = stopwords.words('english')\n",
        "all_stopwords.remove('not')"
      ],
      "id": "ejzl8hBjP1SD",
      "execution_count": 18,
      "outputs": [
        {
          "output_type": "stream",
          "name": "stdout",
          "text": [
            "[nltk_data] Downloading package stopwords to /root/nltk_data...\n",
            "[nltk_data]   Unzipping corpora/stopwords.zip.\n"
          ]
        }
      ]
    },
    {
      "cell_type": "code",
      "metadata": {
        "id": "VEWWobCkP4Bh"
      },
      "source": [
        "corpus=[]\n",
        "\n",
        "for i in range(0, 4652):\n",
        "  review = re.sub('[^a-zA-Z]', ' ', df['review_headline'][i])\n",
        "  review = review.lower()\n",
        "  review = review.split()\n",
        "  review = [ps.stem(word) for word in review if not word in set(all_stopwords)]\n",
        "  review = ' '.join(review)\n",
        "  corpus.append(review)"
      ],
      "id": "VEWWobCkP4Bh",
      "execution_count": 19,
      "outputs": []
    },
    {
      "cell_type": "code",
      "metadata": {
        "colab": {
          "base_uri": "https://localhost:8080/"
        },
        "id": "QH_N56bXP77G",
        "outputId": "a1b9f6b6-b991-4fbb-bfb0-d1f3da681837"
      },
      "source": [
        "\n",
        "corpus"
      ],
      "id": "QH_N56bXP77G",
      "execution_count": 20,
      "outputs": [
        {
          "output_type": "execute_result",
          "data": {
            "text/plain": [
              "['one star',\n",
              " 'work advertis',\n",
              " 'one star',\n",
              " 'love camera lot difficulti set',\n",
              " 'save grandma camera die yr',\n",
              " 'get pay',\n",
              " 'complet total unreli',\n",
              " 'three star',\n",
              " 'not camera smart easiest setup could',\n",
              " 'four star',\n",
              " 'wake kid night loud click awar',\n",
              " 'not simpl instal',\n",
              " 'great product servic',\n",
              " 'great babi monitor',\n",
              " 'buy newer model want list function',\n",
              " 'work',\n",
              " 'five star',\n",
              " 'great work',\n",
              " 'good product',\n",
              " 'simpli amaz',\n",
              " 'set pain link camera',\n",
              " 'outstand devic servic',\n",
              " 'major flaw sensor',\n",
              " 'carl great help set',\n",
              " 'need littl tech support',\n",
              " 'awesom',\n",
              " 'not window',\n",
              " 'high end hardwar low end softwar interfac exposur unknown third parti',\n",
              " 'set internet connect not easi follow direct close work',\n",
              " 'far good',\n",
              " 'five star',\n",
              " 'fairli decent netowrk camera',\n",
              " 'oustand camera custom servic',\n",
              " 'final set work great foscam screen share comput',\n",
              " 'not buy',\n",
              " 'bad choic problem tenvi',\n",
              " 'good cam',\n",
              " 'disappoint',\n",
              " 'foscam wifi camera babi monitor',\n",
              " 'two star',\n",
              " 'product great job difficult setup',\n",
              " 'good indoor camera',\n",
              " 'five star',\n",
              " 'good',\n",
              " 'tri anoth camera',\n",
              " 'four star',\n",
              " 'not bad setup great valu',\n",
              " 'good',\n",
              " 'decent job tell',\n",
              " 'five star',\n",
              " 'great cam price',\n",
              " 'set not user friendli tech savvi',\n",
              " 'research figur power adapt bad call manufactur ask replac',\n",
              " 'excel',\n",
              " 'five star',\n",
              " 'rd grader could design better softwar howev hardwar seem solid',\n",
              " 'camera work great foscam need work web',\n",
              " 'love capabl camera',\n",
              " 'good camera poor instruct',\n",
              " 'also quit nice log remot take quick look',\n",
              " 'work great sprung hd though instead',\n",
              " 'fantast product last year sinc move',\n",
              " 'servic',\n",
              " 'avoid camera',\n",
              " 'reason not uniti',\n",
              " 'worst product worst support',\n",
              " 'foscam best',\n",
              " 'wast money',\n",
              " 'nice idea tech support aw',\n",
              " 'imposs set internet view',\n",
              " 'great view area monitor though',\n",
              " 'awesom littl cam',\n",
              " 'work great problem one',\n",
              " 'great price',\n",
              " 'five star',\n",
              " 'william foscam amaz job help set camera',\n",
              " 'great except',\n",
              " 'surprisingli solid',\n",
              " 'learn forward port',\n",
              " 'two star',\n",
              " 'fine releas odd',\n",
              " 'one star',\n",
              " 'useless cannot view outsid home',\n",
              " 'support servic remot setup great guy name john help',\n",
              " 'great camera great tech support',\n",
              " 'devin leo great support',\n",
              " 'three star',\n",
              " 'five star',\n",
              " 'disappoint',\n",
              " 'could not happier devic',\n",
              " 'warn not buy',\n",
              " 'great camera great custom servic',\n",
              " 'weekend return basic useless applic',\n",
              " 'four star',\n",
              " 'one star',\n",
              " 'overal camera suck look anoth',\n",
              " 'setup beyond video monitor complic allow',\n",
              " 'night mode great clear',\n",
              " 'five star',\n",
              " 'disappoint',\n",
              " 'two defect unit wifi die less hr',\n",
              " 'five star',\n",
              " 'asid great',\n",
              " 'five star',\n",
              " 'best ip camera',\n",
              " 'five star',\n",
              " 'five star',\n",
              " 'problem power',\n",
              " 'product arriv good shape instal trickier expect',\n",
              " 'good support leo great camera good',\n",
              " 'spend extra money buy newer version',\n",
              " 'get wifi setup work',\n",
              " 'legit cam',\n",
              " 'softwar easi use',\n",
              " 'five star',\n",
              " 'satisfi',\n",
              " 'updat firmwar cannot connect devic via softwar',\n",
              " 'good product difficult set',\n",
              " 'u dont degre dont buy',\n",
              " 'difficult camera ever setup',\n",
              " 'camera great littl tricki set',\n",
              " 'calvin foscam profession patient',\n",
              " 'camera work great pictur nice clear easi move',\n",
              " 'junk',\n",
              " 'buy anoth camera',\n",
              " 'foscam great product even better custom support',\n",
              " 'five star',\n",
              " 'three star',\n",
              " 'great purchas',\n",
              " 'secur alarm eye',\n",
              " 'five star',\n",
              " 'byer bewar',\n",
              " 'video qualiti good tube video help',\n",
              " 'forewarn ridicul difficult set',\n",
              " 'five star',\n",
              " 'wast money',\n",
              " 'difficult remot access',\n",
              " 'rocket scienc',\n",
              " 'tough instal good product valu',\n",
              " 'candid camera',\n",
              " 'terri morgan tech support foscam excel could not get camera connect wirelessli',\n",
              " 'five star',\n",
              " 'not good fi xxx',\n",
              " 'difficult configur',\n",
              " 'stop work',\n",
              " 'mani peopl login',\n",
              " 'softwar poor tech help great',\n",
              " 'fantast ip camera',\n",
              " 'work perfect',\n",
              " 'five star',\n",
              " 'expect secur camera never upgrad firmwar',\n",
              " 'poor frame rate',\n",
              " 'one star',\n",
              " 'five star',\n",
              " 'five star',\n",
              " 'five star',\n",
              " 'five star',\n",
              " 'set camera minut work great thank help',\n",
              " 'five star',\n",
              " 'pretti much type',\n",
              " 'five star',\n",
              " 'came handi less week',\n",
              " 'carlo henderson great job solv problem',\n",
              " 'easi instal work great',\n",
              " 'simpl setup',\n",
              " 'like camera set pretti',\n",
              " 'best valu babi monitor',\n",
              " 'great',\n",
              " 'carl best help great custom servic',\n",
              " 'four star',\n",
              " 'five star',\n",
              " 'one star',\n",
              " 'mani hour cannot figur use noth quick easi product unless work comput',\n",
              " '',\n",
              " 'love camera',\n",
              " 'mani thing make better',\n",
              " 'use babi monitor love use basic web browser interfac',\n",
              " 'superb tecknic support',\n",
              " 'good pictur work well instal set pain instruct not help',\n",
              " 'one star',\n",
              " 'save money difficult setup app unstabl',\n",
              " 'work great even accident spray water',\n",
              " 'meh',\n",
              " 'email motion detect event bad flaw',\n",
              " 'perfect item help lot stop',\n",
              " 'need technic chop make work',\n",
              " 'excel must buy',\n",
              " 'five star',\n",
              " 'work one day quit',\n",
              " 'love camera support',\n",
              " 'glitchi',\n",
              " 'wast money appar',\n",
              " 'horribl',\n",
              " 'great monitor without intrus neighbor',\n",
              " 'great product support',\n",
              " 'brought camera not easi said hook comput',\n",
              " 'fantast product even better support',\n",
              " 'mani featur worth price',\n",
              " 'camera set instal',\n",
              " 'five star',\n",
              " 'far good',\n",
              " 'glorifi web cam',\n",
              " 'complic piec trash',\n",
              " 'webcam great use zonemind',\n",
              " 'great product',\n",
              " 'foscam great valu well worth money piec',\n",
              " 'good camera bad instruct setup',\n",
              " 'camera realli good job video clear audio crisp',\n",
              " 'love camera',\n",
              " 'five star',\n",
              " 'pretti good qualiti',\n",
              " 'fantast custom servic bruce anderson',\n",
              " 'camera support great',\n",
              " 'great support bruce',\n",
              " 'spend extra money get someth better',\n",
              " 'foscam support',\n",
              " 'three star',\n",
              " 'john support team knowledg help',\n",
              " 'five star',\n",
              " 'great qualiti easi manipul',\n",
              " 'expect set custom support great terri morgan',\n",
              " 'great experi satisfactori',\n",
              " 'five star',\n",
              " 'need help instal new camera today',\n",
              " 'superior custom servic leo',\n",
              " 'camera year old still work fine complic setup',\n",
              " 'bad softwar',\n",
              " 'also light come pass len everyth get wash horribl',\n",
              " 'great product',\n",
              " 'complic',\n",
              " 'nice camera program issu',\n",
              " 'buy differ compani regret',\n",
              " 'great camera money',\n",
              " 'foscam fi instal tech support great',\n",
              " 'thank taken time write',\n",
              " 'great camera fairli easi set',\n",
              " 'cam easi set clariti super clear',\n",
              " 'great camera excel support',\n",
              " 'impress nice work',\n",
              " 'great servic bruce',\n",
              " 'gift purchas',\n",
              " 'secur risk word wise',\n",
              " 'foscam secur camera german shepherd quiet home front',\n",
              " 'one star',\n",
              " 'not happi',\n",
              " 'not good qualiti imag poor',\n",
              " 'love camera glitch howev',\n",
              " 'issu includ setup step',\n",
              " 'like tonz',\n",
              " 'great camera not easi setup',\n",
              " 'five star',\n",
              " 'work fine use motion detector indoor',\n",
              " 'great remot camera',\n",
              " 'great camera custom servic',\n",
              " 'work router without pay monthli fee',\n",
              " 'cam work',\n",
              " 'worth money',\n",
              " 'highli recommend foscam camera technic support group',\n",
              " 'wast money',\n",
              " 'two star',\n",
              " 'best product ever purchas',\n",
              " 'excel camera',\n",
              " 'camera work perfect anyon want basic secur system',\n",
              " 'nice great price',\n",
              " 'awar overheat probelm continu work',\n",
              " 'watch',\n",
              " 'one best secur devic purchas without hard wire',\n",
              " 'custom support',\n",
              " 'good price',\n",
              " 'good valu',\n",
              " 'four star',\n",
              " 'star',\n",
              " 'price need almost perfect ir led super bright',\n",
              " 'decent camera not buy',\n",
              " 'work lan',\n",
              " 'great product',\n",
              " 'use model sent frustrat',\n",
              " 'good camera problem setup',\n",
              " 'work fine sever set email',\n",
              " 'work well use use town',\n",
              " 'five star',\n",
              " 'excel job help get foscam work',\n",
              " 'five star',\n",
              " 'great buy',\n",
              " 'camera work great',\n",
              " 'five star',\n",
              " 'want get camera babi monitor work great couldnt happier',\n",
              " 'five star',\n",
              " 'four star',\n",
              " 'edward martinez amaz help diagnos softwar problem',\n",
              " 'work great upgrad pc',\n",
              " 'nice pan tilt camera price fix camera',\n",
              " 'work great even year usag',\n",
              " 'ok camera great support',\n",
              " 'way complic buy',\n",
              " 'four star',\n",
              " 'calvin excel job help set foscam camera',\n",
              " 'five star',\n",
              " 'five star',\n",
              " 'henri cambel purchas camera work',\n",
              " 'cool item',\n",
              " 'five star',\n",
              " 'love camera',\n",
              " 'excel tech support',\n",
              " 'three star',\n",
              " 'foscam make great camera',\n",
              " 'reason product price',\n",
              " 'babi video monitor',\n",
              " 'four star',\n",
              " 'one star',\n",
              " 'view away lan',\n",
              " 'five star',\n",
              " 'three star',\n",
              " 'difficult setup',\n",
              " 'great camera requir littl support bet foscom',\n",
              " 'foscam custom support help effici',\n",
              " 'ok ms comput scienc',\n",
              " 'bought march still work great march',\n",
              " 'thought camera would better price thought would',\n",
              " 'work perfect wish go',\n",
              " 'setup huge pain',\n",
              " 'work great take littl comput know set',\n",
              " 'great hardwar great price',\n",
              " 'four star',\n",
              " 'easi access clariti',\n",
              " 'great product definit recommend',\n",
              " 'lot price',\n",
              " 'awesom',\n",
              " 'great camera',\n",
              " 'wast money',\n",
              " 'great valu reliabl work well',\n",
              " 'five star',\n",
              " 'give star tech support',\n",
              " 'littl troubl set not bad',\n",
              " 'great custom servic',\n",
              " 'great product realli easi set',\n",
              " 'pictur good pan tilt good',\n",
              " 'faulti camera',\n",
              " 'wast money not recommend',\n",
              " 'return not',\n",
              " 'awesom camera even better price',\n",
              " 'decent camera easi setup',\n",
              " 'seem like good camera',\n",
              " 'great product love',\n",
              " 'exactli need',\n",
              " 'devin leo great integr easili iphon app',\n",
              " 'happi camera price',\n",
              " 'five star',\n",
              " 'good camera difficult set',\n",
              " 'great hardwar expect view away home without anoth invest',\n",
              " 'good hardwar crap softwar ruin experi',\n",
              " 'five star',\n",
              " 'instal setup somewhat tediou camera need reboot setup',\n",
              " 'good camera',\n",
              " 'foscam good',\n",
              " 'nightvis great wish firmwar updat',\n",
              " 'five star',\n",
              " 'not buy camera',\n",
              " 'three star',\n",
              " 'crap drive mad tri set',\n",
              " 'good far',\n",
              " 'foscam support suck',\n",
              " 'access comput smart phone not buy especi price',\n",
              " 'access cam network',\n",
              " 'three star',\n",
              " 'forth camera like',\n",
              " 'best babi monitor',\n",
              " 'great camera',\n",
              " 'four star',\n",
              " 'good camera poor app',\n",
              " 'set wifi mode tri mani time',\n",
              " 'not impress',\n",
              " 'foscaam great foscam tech carl set complic port',\n",
              " 'return',\n",
              " 'great valu cam',\n",
              " 'pan tilt featur use use camera remot',\n",
              " 'satisfi also product',\n",
              " 'wast time',\n",
              " 'great product potenti suicid induc instal',\n",
              " 'two star',\n",
              " 'excel custom servic',\n",
              " 'worri',\n",
              " 'one star',\n",
              " 'five star',\n",
              " 'work well problem far',\n",
              " 'easi instal great custom servic',\n",
              " 'not worth time',\n",
              " 'oper rel simpl easi control mobil',\n",
              " 'great camera full set featur',\n",
              " 'sent back',\n",
              " 'experi transact foscam product repres exce star',\n",
              " 'great get work',\n",
              " 'not worth headach',\n",
              " 'five star',\n",
              " 'three star',\n",
              " 'great product custom support help',\n",
              " 'continu work ill continu buy product compani',\n",
              " 'three star',\n",
              " 'five star',\n",
              " 'get work properti would',\n",
              " 'good paper weight',\n",
              " 'assist set cam witch awesom',\n",
              " 'four star',\n",
              " 'not bad buy price',\n",
              " 'five star',\n",
              " 'hi re today standard great toy possibl',\n",
              " 'christoph help setup need',\n",
              " 'five star',\n",
              " 'five star',\n",
              " 'use camera two year still good work condit',\n",
              " 'foscam great product recommend friend famili',\n",
              " 'not easiest setup excel custom support help configur devic remot',\n",
              " 'walter tech support amaz help set new camera',\n",
              " 'meh',\n",
              " 'five star',\n",
              " 'buy foscam monitor anyth import use monitor garden',\n",
              " 'excel servic technician custom christoph camera',\n",
              " 'imagin would realli enjoy camera not problem',\n",
              " 'five star',\n",
              " 'good camera tri get',\n",
              " 'robot camera indoor use',\n",
              " 'two star',\n",
              " 'john support great abl help get everyth',\n",
              " 'great one singl flaw realli need address',\n",
              " 'date softwar',\n",
              " 'excel custom support',\n",
              " 'great job thank',\n",
              " 'mr edward awesom great',\n",
              " 'five star',\n",
              " 'kenneth thompson satisfi servic provid foscam support team',\n",
              " 'work great instal',\n",
              " 'four star',\n",
              " 'low fp good camera',\n",
              " 'one star',\n",
              " 'five star',\n",
              " 'pretti happi',\n",
              " 'broke month',\n",
              " 'user unfriendli',\n",
              " 'one star',\n",
              " 'best option babi monitor',\n",
              " 'perfect kid',\n",
              " 'great custom servic',\n",
              " 'excel camera sometim technic setup littl',\n",
              " 'spoke tina gonzalez great experi profession extrem help',\n",
              " 'technic support super',\n",
              " 'not recommend anyon buy product foscam come',\n",
              " 'three star',\n",
              " 'love camera',\n",
              " 'technic support',\n",
              " 'secur web cam',\n",
              " 'exel ip camera',\n",
              " 'love camera',\n",
              " 'five star',\n",
              " 'camera work good pictur qualiti good',\n",
              " 'support team foscam great christoph help audio problem',\n",
              " 'best wireless camera money',\n",
              " 'awesom find problem',\n",
              " 'good camera price',\n",
              " 'exeed expect eas instal perform',\n",
              " 'great support',\n",
              " 'foscam fi w pan tilt ip network stop work two month',\n",
              " 'custom servic foscam star',\n",
              " 'five star',\n",
              " 'set product review',\n",
              " 'disconnect lot difficult set',\n",
              " 'five star',\n",
              " 'excel pan wireless camera',\n",
              " 'not work',\n",
              " 'instruct manual poorli written advertis ip camera',\n",
              " 'price favor not wast time',\n",
              " 'camera broke year unrespons custom servic',\n",
              " 'tech savvi',\n",
              " 'buy product not great camera tech support like christoph make',\n",
              " 'foscam set',\n",
              " 'not disappoint',\n",
              " 'foscam custom support awesom',\n",
              " 'not recommend',\n",
              " 'work major time',\n",
              " 'great servic alway call foscam',\n",
              " 'wireless',\n",
              " 'everyth fine',\n",
              " 'love camera',\n",
              " 'four star',\n",
              " 'sever scatter work great',\n",
              " 'awesom camera',\n",
              " 'easi set',\n",
              " 'bad instruct terribl english challang support ridicul hard setup',\n",
              " 'end work',\n",
              " 'connect synolog surveil system instead port forward nice workaround video qualiti ok pur',\n",
              " 'work wonder',\n",
              " 'great babi monitor',\n",
              " 'work decent well',\n",
              " 'easili hack not even funni',\n",
              " 'love work night vision',\n",
              " 'third foscam f w',\n",
              " 'work ok',\n",
              " 'sinc not tech savi',\n",
              " 'one star',\n",
              " 'five star',\n",
              " 'great first tech guy get work',\n",
              " 'best invest parent peac mind',\n",
              " 'expect technic support team easi go dilig',\n",
              " 'perfect babi monitor monitor home',\n",
              " 'great pain set',\n",
              " 'complic',\n",
              " 'not worth money',\n",
              " 'five star',\n",
              " 'five star',\n",
              " 'well done foscam best support ever',\n",
              " 'five star',\n",
              " 'five star',\n",
              " 'success gift',\n",
              " 'work great problem experienc',\n",
              " 'great babi monitor',\n",
              " 'five star',\n",
              " 'far good need phone setup',\n",
              " 'great setup via servic call',\n",
              " 'five star',\n",
              " 'awesom',\n",
              " 'five star',\n",
              " 'great servic calvin foscam technic support',\n",
              " '',\n",
              " 'best ip camera ever own',\n",
              " 'not user friendli worst user instruct',\n",
              " 'good valu overal',\n",
              " 'thde compani renew site certif',\n",
              " 'easi set',\n",
              " 'work expect happi result',\n",
              " 'great cam price',\n",
              " 'great camera',\n",
              " 'nice fun work',\n",
              " 'easi set',\n",
              " 'done work like champ',\n",
              " 'bang buck',\n",
              " 'great babi monitor',\n",
              " 'five star',\n",
              " 'best market price',\n",
              " 'great price',\n",
              " 'great babi want use',\n",
              " 'recommend',\n",
              " 'smart man',\n",
              " 'camera work good great support staff',\n",
              " 'poorli advertis simpl set',\n",
              " 'five star',\n",
              " 'stop work',\n",
              " 'one star',\n",
              " 'love camera',\n",
              " 'great camera issu setup recommend babi monitor return dropcam',\n",
              " 'love set home super easi',\n",
              " 'camera work great',\n",
              " 'job great inexpens camera',\n",
              " 'great product',\n",
              " 'setup easi know network',\n",
              " 'great price set camera via ethernet cabl',\n",
              " 'cheap option home monitor job frill',\n",
              " 'two star',\n",
              " 'set properli work promis read instruct thoroughli first watch video requir static ip view',\n",
              " 'tech support non work camera',\n",
              " 'obvious review zero',\n",
              " 'good product rel easi set',\n",
              " 'three foscam camera purchas excel detail pan',\n",
              " 'not user friendli cheap worth',\n",
              " 'good camera difficult setup',\n",
              " 'limit function',\n",
              " 'mac friendli easi instal great pictur qualiti',\n",
              " 'highli recommend',\n",
              " 'two star',\n",
              " 'never connect wireless',\n",
              " 'terribl interfac familiar ip adress',\n",
              " 'vid qualiti good setup bit tediou',\n",
              " 'like rotat camera comput',\n",
              " 'bad product',\n",
              " 'four star',\n",
              " 'foscam camera sever year excel luck purchas',\n",
              " 'not plug play',\n",
              " 'nice result',\n",
              " 'not happi',\n",
              " 'verg good',\n",
              " 'great camera',\n",
              " 'easi setup excel valu',\n",
              " 'five star',\n",
              " 'overal need',\n",
              " 'first ip camera work expect',\n",
              " 'decent straightforward',\n",
              " 'otherwis great',\n",
              " 'happi custom',\n",
              " 'one star',\n",
              " 'five star',\n",
              " 'work better expect',\n",
              " 'great',\n",
              " 'horribl instruct follow step step camera',\n",
              " 'roy knew exactli everyth work great thank roy',\n",
              " 'great job well done',\n",
              " 'four star',\n",
              " 'work bad user experi gener',\n",
              " 'five star',\n",
              " 'like rocket surgeri',\n",
              " 'custom servic terribl',\n",
              " 'foscam noscam camera work wonder',\n",
              " 'decent camera bad tech support',\n",
              " 'frustrat',\n",
              " 'hate product',\n",
              " 'foscam custom terrif roy martin abl remot access',\n",
              " 'best camera money',\n",
              " 'bought one believ camera work great littl troubl set',\n",
              " 'five star',\n",
              " 'five star',\n",
              " 'spend buy better camera',\n",
              " 'make sure secur camera otherwis excel',\n",
              " 'upgrad bit better perform',\n",
              " 'work great well lit area',\n",
              " 'good starter camera poor color reason ir perform',\n",
              " 'great product price',\n",
              " 'foscam best privat owner not busi camera',\n",
              " 'five star',\n",
              " 'took littl bit get set work right figur work fine',\n",
              " 'hard use',\n",
              " 'help get everyth excel work',\n",
              " 'terrif custom servic',\n",
              " 'wast money',\n",
              " 'four star',\n",
              " 'good far',\n",
              " 'great camera pan tilt function nice control',\n",
              " 'good camera pita setup',\n",
              " 'great product would like better android app',\n",
              " 'audio support web app camera rang terribl',\n",
              " 'glad camera',\n",
              " 'great camera money',\n",
              " 'five star',\n",
              " 'nice camera setup not straight forward',\n",
              " 'five star',\n",
              " 'great nanni doggi cam',\n",
              " 'disappoint',\n",
              " 'like sit read bunch direct',\n",
              " 'good camera need person work right',\n",
              " 'nice ip camera not easi setup',\n",
              " 'ok not great',\n",
              " 'work great setup cumbersom goo camera',\n",
              " 'two star',\n",
              " 'three star',\n",
              " 'roy martin good thank',\n",
              " 'great product everyth work',\n",
              " 'charl meyer life saver',\n",
              " 'buy brand name',\n",
              " 'best support help ever',\n",
              " 'difficukt set mire importantli',\n",
              " 'call foscam support mat nice helfp',\n",
              " 'camera neither',\n",
              " 'challeng setup',\n",
              " 'roy martin great job help setup friendli compani',\n",
              " 'five star',\n",
              " 'not hard glad know pro',\n",
              " 'five star',\n",
              " 'good not great job price deserv star',\n",
              " 'great indoor ip cam money',\n",
              " 'one star',\n",
              " 'three star',\n",
              " 'see everyth',\n",
              " 'four star',\n",
              " 'not want spend much found one easi set work great',\n",
              " 'five star',\n",
              " 'use babi monitor great much cheaper regular video monitor',\n",
              " 'troubl load camera onto pc',\n",
              " 'great help',\n",
              " 'good camera complic firmwar updat led headach',\n",
              " 'hardwar work load',\n",
              " 'four star',\n",
              " 'five star',\n",
              " 'great camera setup difficult',\n",
              " 'work great',\n",
              " 'five star',\n",
              " 'five star',\n",
              " 'three star',\n",
              " 'price cannot beat',\n",
              " 'difficult set worth effort',\n",
              " 'five star',\n",
              " 'camera work well job instruct',\n",
              " 'return item not work',\n",
              " 'cheapest fo cam avail super impress use babi monitor',\n",
              " 'perfect ip camera',\n",
              " 'two other model work like',\n",
              " 'five star',\n",
              " 'support provid foscam compani awesom guy name roy martin spend almost spend',\n",
              " 'kitti cam',\n",
              " 'great',\n",
              " 'not reliabl set motion sens',\n",
              " 'five star',\n",
              " 'better',\n",
              " 'five star',\n",
              " 'review way get rid thing review list write review',\n",
              " 'great pictur qualiti glitch much',\n",
              " 'awesom camera',\n",
              " 'three star',\n",
              " 'camera overal good watch dog insid',\n",
              " 'five star',\n",
              " 'decent camera job buy better one futur',\n",
              " 'bought camera month ago felt like give review',\n",
              " 'great product great price',\n",
              " 'five star',\n",
              " 'five star',\n",
              " 'good valu',\n",
              " 'buy newer model',\n",
              " 'product give excel pictur qualiti movement without jerki addit nois',\n",
              " 'five star',\n",
              " 'receiv christma highli recommend buy someth els',\n",
              " 'camera',\n",
              " 'crap total crap',\n",
              " 'pic qualiti awesom even dark',\n",
              " 'beauti wrap new condit',\n",
              " 'good',\n",
              " 'great camera good pictur qualiti',\n",
              " 'avoid product altogeth',\n",
              " 'probabl better one',\n",
              " 'four star',\n",
              " 'get way better imag qualiti money cam',\n",
              " 'great work could not done without',\n",
              " 'camera tech awesom',\n",
              " 'great babi monitor',\n",
              " 'far love camera',\n",
              " 'great camera especi price',\n",
              " 'not bad cam use sinc aug even',\n",
              " 'older version great price',\n",
              " 'great tech support',\n",
              " 'five star',\n",
              " 'great camera price',\n",
              " 'roy martin foscam support help port',\n",
              " 'difficult program wireless need',\n",
              " 'realli good money good tech support',\n",
              " 'five star',\n",
              " 'great cam',\n",
              " 'realli like product',\n",
              " 'roy martin amaz patient',\n",
              " 'forget chang default password',\n",
              " 'good tech support',\n",
              " 'tech support suck wait minut speak',\n",
              " 'great camera easi instal figur',\n",
              " 'get go great',\n",
              " 'awesom camera',\n",
              " 'five star',\n",
              " 'five star',\n",
              " 'camera foscam difficult hook wirelessli',\n",
              " 'camera instal',\n",
              " 'work great',\n",
              " 'not worth anyth',\n",
              " 'blahh',\n",
              " 'good buy work expect',\n",
              " 'must say product great knowledg custom support team',\n",
              " 'great featur home',\n",
              " 'great camera price',\n",
              " 'buy anoth brand add add android softwar',\n",
              " 'love ip cam',\n",
              " 'five star',\n",
              " 'great',\n",
              " 'disgust firmwar poorli written look like someth put togeth week',\n",
              " 'good product good seller',\n",
              " 'love bought check',\n",
              " 'one star',\n",
              " 'camera hardwar good howev problem come user manual',\n",
              " 'alarm figur great deal',\n",
              " 'five star',\n",
              " 'work advertis pic fairli clear',\n",
              " 'five star',\n",
              " 'great tech support',\n",
              " 'like camera pan tilt built',\n",
              " 'big brother watch',\n",
              " 'good product',\n",
              " 'good valu ip camera',\n",
              " 'larg crib',\n",
              " 'camera great seen camera qualiti',\n",
              " 'work great easi instal easi phone access',\n",
              " 'help set camera everyth work great',\n",
              " 'never get set right',\n",
              " 'not buy',\n",
              " 'fi w',\n",
              " 'great camera',\n",
              " 'work perfect tenvi boy tenvi',\n",
              " 'excel ip camera price work great wi fi local via internet anywher world',\n",
              " 'great camera great price',\n",
              " 'roy martin',\n",
              " 'pretti simpl port forward',\n",
              " 'two star',\n",
              " 'three star',\n",
              " 'nice set',\n",
              " 'great product',\n",
              " 'four star',\n",
              " 'recent purchas foscam camera model f w',\n",
              " 'great indoor ip camera monitor traffic',\n",
              " 'happi foscam camera purchas price',\n",
              " 'tech support help howev feel',\n",
              " 'awesom call polit',\n",
              " 'easi setup use',\n",
              " 'five star',\n",
              " 'frustrat',\n",
              " 'good camera folk work appl',\n",
              " 'wire set easi howev attempt connect wirelessli',\n",
              " 'help technician littl tricki',\n",
              " 'five star',\n",
              " 'great item love',\n",
              " 'realli nice especi static ip',\n",
              " 'camera fine except not compat',\n",
              " 'excel qualiti imag nice remot access featur',\n",
              " 'two star',\n",
              " 'hit miss camera support',\n",
              " 'excel product read mani bad review',\n",
              " 'happi',\n",
              " 'easi setup local network',\n",
              " 'exel camera great custom servic',\n",
              " 'four star',\n",
              " 'save money',\n",
              " 'camera work great expect chang password',\n",
              " 'great help thank much',\n",
              " 'five star',\n",
              " 'five star',\n",
              " 'reason price good video hard setup softwar',\n",
              " 'love camera thank much eric',\n",
              " 'work good',\n",
              " 'ok spend dollar better one',\n",
              " 'easili keep tab kid',\n",
              " 'great product',\n",
              " 'keep call support fix take time patient',\n",
              " 'sure work app internet outsid home network area',\n",
              " 'work great setup minut',\n",
              " 'foscam die month connect',\n",
              " 'four star',\n",
              " 'must parent',\n",
              " 'leo best custom tech support',\n",
              " 'great',\n",
              " 'good cheap secur cam',\n",
              " 'job requir good amount technolog savvi',\n",
              " 'aldrin britto tech support foscam help',\n",
              " 'good camera best reli tech support navig set',\n",
              " 'three star',\n",
              " 'unless tech geek',\n",
              " 'great camera hard set',\n",
              " 'three star',\n",
              " 'one star',\n",
              " 'lot issu work',\n",
              " 'tough use',\n",
              " 'five star',\n",
              " 'nice camera video qualiti good',\n",
              " 'advertis get firmwar updat product agre get spam email pretti muc',\n",
              " 'five star',\n",
              " 'good product',\n",
              " 'neither product compani deserv money',\n",
              " 'custom servic rep tina gonzal prevent return camera got run',\n",
              " 'good job four month replac camera',\n",
              " 'awesom ptz',\n",
              " 'great secur without pay someon',\n",
              " 'not buy',\n",
              " 'good camera good price easi follow instal instruct',\n",
              " 'foscam leav high dri',\n",
              " 'nice network camera low price',\n",
              " 'great camera',\n",
              " 'great camera great custom support',\n",
              " 'lack http',\n",
              " 'job well',\n",
              " 'horribl camera set',\n",
              " 'good critic review found techsmash site',\n",
              " 'five star',\n",
              " 'work low end ptz camera driver',\n",
              " 'foscam smoshcam',\n",
              " 'two star',\n",
              " 'great product great tech support',\n",
              " 'pictur clear low light mode great softwar could better',\n",
              " 'nice idea work',\n",
              " 'work great third lost power suppli',\n",
              " 'wors product technic support ever',\n",
              " 'great purchas wish could play video back',\n",
              " 'sh camera not buy',\n",
              " 'terrif pictur',\n",
              " '',\n",
              " 'four star',\n",
              " 'sometim work sometim',\n",
              " 'thank william painstakingli help instal new',\n",
              " 'cheap good',\n",
              " 'great first camera',\n",
              " 'five star',\n",
              " 'piec mind',\n",
              " 'easi enough set',\n",
              " 'nice check babi sleep',\n",
              " 'pretti decent',\n",
              " 'omg love love love camera',\n",
              " 'product exactli say initi set',\n",
              " 'four star',\n",
              " 'camera work great setup bit difficult get port',\n",
              " 'five star',\n",
              " 'good indoor ip webcam wireless quirk',\n",
              " 'appear junk',\n",
              " 'easi setup',\n",
              " 'come time feel like idiot',\n",
              " 'good not asi use',\n",
              " 'buy slightli expens p edit',\n",
              " 'calvin excel',\n",
              " 'one star',\n",
              " 'hard set work flawlessli',\n",
              " 'great basic function probabl worth get fi xxx instead though',\n",
              " 'work great not come phone app setup take',\n",
              " 'work great instruct come packag',\n",
              " 'great camera price',\n",
              " 'return two issu',\n",
              " 'good clear pic send pic',\n",
              " 'pictur qualiti not great due p',\n",
              " 'four star',\n",
              " 'five star',\n",
              " 'not recommend',\n",
              " 'foscam way go ptz wifi',\n",
              " 'eric hill awesom help set two remot camera',\n",
              " 'technic savvi instal set otherwis give pass',\n",
              " 'custom servic good',\n",
              " 'five star',\n",
              " 'five star',\n",
              " 'good ip cam connect issu',\n",
              " 'not quit work yet',\n",
              " 'perfect product thank',\n",
              " 'five star',\n",
              " 'like',\n",
              " 'two star',\n",
              " 'one star',\n",
              " 'nice camera',\n",
              " 'five star',\n",
              " 'realli like littl camera',\n",
              " 'good starter camera',\n",
              " 'instal one camera addit instal easi technic support need',\n",
              " 'four star',\n",
              " 'five star',\n",
              " 'doa least amazon quick process return',\n",
              " 'excel',\n",
              " 'rubber coat becom sticki year',\n",
              " 'work realli nice two',\n",
              " 'great camera',\n",
              " 'think great camera price',\n",
              " 'great valu current firmwar oct solid pan tilt ir',\n",
              " 'disappoint point time',\n",
              " 'realli like camera',\n",
              " 'good ip cam rang',\n",
              " 'better camera',\n",
              " 'great camera bit pain set',\n",
              " 'five star',\n",
              " 'tech support calvin harri excel guid step step',\n",
              " 'four star',\n",
              " 'five star',\n",
              " 'not plug play cannot use useless get work',\n",
              " 'four star',\n",
              " 'good camera hard program',\n",
              " 'easi set great support need',\n",
              " 'like qualiti ptz',\n",
              " 'check foscam support forum buy problem shake stick glad na',\n",
              " 'excel servic',\n",
              " 'great product except custom servic',\n",
              " 'work great babi monitor',\n",
              " 'spi',\n",
              " 'five star',\n",
              " 'five star',\n",
              " 'great camera setup quick easi',\n",
              " 'receiv camera quickli easi set assist',\n",
              " 'stay connect day',\n",
              " 'call terri morgan tech support great took remot control comput',\n",
              " 'five star',\n",
              " 'addit camera',\n",
              " 'cannot connect wireless network total useless chang frequenc band encrypt etc',\n",
              " 'five star',\n",
              " 'nice call assist set',\n",
              " 'great technic support',\n",
              " 'see day night',\n",
              " 'one star',\n",
              " 'good',\n",
              " 'five star',\n",
              " 'great camera use custom support repres mark',\n",
              " 'overal good camera great price',\n",
              " 'even though work good',\n",
              " 'foscom setup issu',\n",
              " 'five star',\n",
              " 'job monitor children wow talk custom servic',\n",
              " 'good custom servic updat',\n",
              " 'five star',\n",
              " 'ok not thrill',\n",
              " 'updat review',\n",
              " 'good product price',\n",
              " 'troubl instal comput',\n",
              " 'five star',\n",
              " 'great product',\n",
              " 'five star',\n",
              " 'instruct terribl custom support terribl',\n",
              " 'perfect true color display camera',\n",
              " 'realli like camera far',\n",
              " 'max work foscam compani help',\n",
              " 'five star',\n",
              " 'josh sander foscam wonder great help set',\n",
              " 'calvin foscam technic support great patient',\n",
              " 'forget foscam',\n",
              " 'happi custom thank',\n",
              " 'pretti tech savvi',\n",
              " 'good troubl shoot',\n",
              " 'camera clean clear pictur better color represent other',\n",
              " 'excel product custom servic great',\n",
              " 'two star',\n",
              " 'mark went beyond make sure evryth work perfect question answer',\n",
              " '',\n",
              " 'five star',\n",
              " 'five star',\n",
              " ...]"
            ]
          },
          "metadata": {},
          "execution_count": 20
        }
      ]
    },
    {
      "cell_type": "markdown",
      "metadata": {
        "id": "zApWJZxGQMBt"
      },
      "source": [
        "Data Transformation"
      ],
      "id": "zApWJZxGQMBt"
    },
    {
      "cell_type": "code",
      "metadata": {
        "id": "edlYhIeRQPPd"
      },
      "source": [
        "from sklearn.feature_extraction.text import CountVectorizer\n",
        "cv = CountVectorizer(max_features = 2328820)"
      ],
      "id": "edlYhIeRQPPd",
      "execution_count": 21,
      "outputs": []
    },
    {
      "cell_type": "code",
      "metadata": {
        "id": "J11mH4k8QSx8"
      },
      "source": [
        "\n",
        "X = cv.fit_transform(corpus).toarray()\n",
        "y = df['Sentiment'].values"
      ],
      "id": "J11mH4k8QSx8",
      "execution_count": 22,
      "outputs": []
    },
    {
      "cell_type": "code",
      "metadata": {
        "id": "Z8vLQ3xpQVAZ"
      },
      "source": [
        "import pickle\n",
        "bow_path = open('c1_BoW_Sentiment_Model.pkl','wb')\n",
        "pickle.dump(cv, bow_path)"
      ],
      "id": "Z8vLQ3xpQVAZ",
      "execution_count": 23,
      "outputs": []
    },
    {
      "cell_type": "code",
      "metadata": {
        "colab": {
          "base_uri": "https://localhost:8080/",
          "height": 17
        },
        "id": "nSfG_ZwAQdZj",
        "outputId": "a63fd707-b400-45da-8991-599b4c501d39"
      },
      "source": [
        "from google.colab import files\n",
        "files.download('c1_BoW_Sentiment_Model.pkl')"
      ],
      "id": "nSfG_ZwAQdZj",
      "execution_count": 24,
      "outputs": [
        {
          "output_type": "display_data",
          "data": {
            "application/javascript": [
              "\n",
              "    async function download(id, filename, size) {\n",
              "      if (!google.colab.kernel.accessAllowed) {\n",
              "        return;\n",
              "      }\n",
              "      const div = document.createElement('div');\n",
              "      const label = document.createElement('label');\n",
              "      label.textContent = `Downloading \"${filename}\": `;\n",
              "      div.appendChild(label);\n",
              "      const progress = document.createElement('progress');\n",
              "      progress.max = size;\n",
              "      div.appendChild(progress);\n",
              "      document.body.appendChild(div);\n",
              "\n",
              "      const buffers = [];\n",
              "      let downloaded = 0;\n",
              "\n",
              "      const channel = await google.colab.kernel.comms.open(id);\n",
              "      // Send a message to notify the kernel that we're ready.\n",
              "      channel.send({})\n",
              "\n",
              "      for await (const message of channel.messages) {\n",
              "        // Send a message to notify the kernel that we're ready.\n",
              "        channel.send({})\n",
              "        if (message.buffers) {\n",
              "          for (const buffer of message.buffers) {\n",
              "            buffers.push(buffer);\n",
              "            downloaded += buffer.byteLength;\n",
              "            progress.value = downloaded;\n",
              "          }\n",
              "        }\n",
              "      }\n",
              "      const blob = new Blob(buffers, {type: 'application/binary'});\n",
              "      const a = document.createElement('a');\n",
              "      a.href = window.URL.createObjectURL(blob);\n",
              "      a.download = filename;\n",
              "      div.appendChild(a);\n",
              "      a.click();\n",
              "      div.remove();\n",
              "    }\n",
              "  "
            ],
            "text/plain": [
              "<IPython.core.display.Javascript object>"
            ]
          },
          "metadata": {}
        },
        {
          "output_type": "display_data",
          "data": {
            "application/javascript": [
              "download(\"download_0976335c-5cb2-41be-93c2-3053ca1c2550\", \"c1_BoW_Sentiment_Model.pkl\", 70387)"
            ],
            "text/plain": [
              "<IPython.core.display.Javascript object>"
            ]
          },
          "metadata": {}
        }
      ]
    },
    {
      "cell_type": "code",
      "metadata": {
        "id": "tw4CTp7nQgan"
      },
      "source": [
        "from sklearn.model_selection import train_test_split\n",
        "X_train, X_test, y_train, y_test = train_test_split(X, y, test_size = 0.20, random_state = 0)"
      ],
      "id": "tw4CTp7nQgan",
      "execution_count": 25,
      "outputs": []
    },
    {
      "cell_type": "markdown",
      "metadata": {
        "id": "y9VKZaONQ6o7"
      },
      "source": [
        "MODEL FITTING NAIVE BAYES"
      ],
      "id": "y9VKZaONQ6o7"
    },
    {
      "cell_type": "code",
      "metadata": {
        "colab": {
          "base_uri": "https://localhost:8080/"
        },
        "id": "oP6_MWkmQ9cr",
        "outputId": "5755d756-d1bd-417f-9928-25ecf0818884"
      },
      "source": [
        "\n",
        "from sklearn.naive_bayes import GaussianNB\n",
        "classifier = GaussianNB()\n",
        "classifier.fit(X_train, y_train)"
      ],
      "id": "oP6_MWkmQ9cr",
      "execution_count": 26,
      "outputs": [
        {
          "output_type": "execute_result",
          "data": {
            "text/plain": [
              "GaussianNB(priors=None, var_smoothing=1e-09)"
            ]
          },
          "metadata": {},
          "execution_count": 26
        }
      ]
    },
    {
      "cell_type": "code",
      "metadata": {
        "id": "yLYKWSVJRAXr"
      },
      "source": [
        "import joblib\n",
        "path  = open('c2_Classifier_sentiment_Model','wb')\n",
        "joblib.dump(classifier, path)"
      ],
      "id": "yLYKWSVJRAXr",
      "execution_count": 27,
      "outputs": []
    },
    {
      "cell_type": "code",
      "metadata": {
        "colab": {
          "base_uri": "https://localhost:8080/",
          "height": 17
        },
        "id": "uOXdm47yRDs5",
        "outputId": "f3b0237b-cf47-4d30-8ba6-5091328d9e2f"
      },
      "source": [
        "from google.colab import files\n",
        "files.download('c2_Classifier_sentiment_Model')"
      ],
      "id": "uOXdm47yRDs5",
      "execution_count": 28,
      "outputs": [
        {
          "output_type": "display_data",
          "data": {
            "application/javascript": [
              "\n",
              "    async function download(id, filename, size) {\n",
              "      if (!google.colab.kernel.accessAllowed) {\n",
              "        return;\n",
              "      }\n",
              "      const div = document.createElement('div');\n",
              "      const label = document.createElement('label');\n",
              "      label.textContent = `Downloading \"${filename}\": `;\n",
              "      div.appendChild(label);\n",
              "      const progress = document.createElement('progress');\n",
              "      progress.max = size;\n",
              "      div.appendChild(progress);\n",
              "      document.body.appendChild(div);\n",
              "\n",
              "      const buffers = [];\n",
              "      let downloaded = 0;\n",
              "\n",
              "      const channel = await google.colab.kernel.comms.open(id);\n",
              "      // Send a message to notify the kernel that we're ready.\n",
              "      channel.send({})\n",
              "\n",
              "      for await (const message of channel.messages) {\n",
              "        // Send a message to notify the kernel that we're ready.\n",
              "        channel.send({})\n",
              "        if (message.buffers) {\n",
              "          for (const buffer of message.buffers) {\n",
              "            buffers.push(buffer);\n",
              "            downloaded += buffer.byteLength;\n",
              "            progress.value = downloaded;\n",
              "          }\n",
              "        }\n",
              "      }\n",
              "      const blob = new Blob(buffers, {type: 'application/binary'});\n",
              "      const a = document.createElement('a');\n",
              "      a.href = window.URL.createObjectURL(blob);\n",
              "      a.download = filename;\n",
              "      div.appendChild(a);\n",
              "      a.click();\n",
              "      div.remove();\n",
              "    }\n",
              "  "
            ],
            "text/plain": [
              "<IPython.core.display.Javascript object>"
            ]
          },
          "metadata": {}
        },
        {
          "output_type": "display_data",
          "data": {
            "application/javascript": [
              "download(\"download_3debb30d-7097-4ac4-a67b-f10cc4792f67\", \"c2_Classifier_sentiment_Model\", 49050)"
            ],
            "text/plain": [
              "<IPython.core.display.Javascript object>"
            ]
          },
          "metadata": {}
        }
      ]
    },
    {
      "cell_type": "markdown",
      "metadata": {
        "id": "1igIOl3JRKE9"
      },
      "source": [
        "MODEL PERFORMANCE"
      ],
      "id": "1igIOl3JRKE9"
    },
    {
      "cell_type": "code",
      "metadata": {
        "colab": {
          "base_uri": "https://localhost:8080/"
        },
        "id": "QAjJH-32RLs5",
        "outputId": "232c036b-e974-40f3-b74c-d41cae90d864"
      },
      "source": [
        "y_pred = classifier.predict(X_test)\n",
        "\n",
        "from sklearn.metrics import confusion_matrix, accuracy_score\n",
        "cm = confusion_matrix(y_test, y_pred)\n",
        "print(cm)\n",
        "print(classification_report(y_test,y_pred))\n",
        "accuracy_score(y_test, y_pred)"
      ],
      "id": "QAjJH-32RLs5",
      "execution_count": 30,
      "outputs": [
        {
          "output_type": "stream",
          "name": "stdout",
          "text": [
            "[[215  25]\n",
            " [570 121]]\n",
            "              precision    recall  f1-score   support\n",
            "\n",
            "           0       0.27      0.90      0.42       240\n",
            "           1       0.83      0.18      0.29       691\n",
            "\n",
            "    accuracy                           0.36       931\n",
            "   macro avg       0.55      0.54      0.35       931\n",
            "weighted avg       0.69      0.36      0.32       931\n",
            "\n"
          ]
        },
        {
          "output_type": "execute_result",
          "data": {
            "text/plain": [
              "0.3609022556390977"
            ]
          },
          "metadata": {},
          "execution_count": 30
        }
      ]
    },
    {
      "cell_type": "code",
      "metadata": {
        "colab": {
          "base_uri": "https://localhost:8080/"
        },
        "id": "SMZ7G2M4RZvo",
        "outputId": "775f7897-408e-4934-c968-fddc8bc0d536"
      },
      "source": [
        "from sklearn.metrics import classification_report\n",
        "y_pred_train = classifier.predict(X_train)\n",
        "print(classification_report(y_train,y_pred_train))"
      ],
      "id": "SMZ7G2M4RZvo",
      "execution_count": 29,
      "outputs": [
        {
          "output_type": "stream",
          "name": "stdout",
          "text": [
            "              precision    recall  f1-score   support\n",
            "\n",
            "           0       0.30      1.00      0.46       905\n",
            "           1       1.00      0.26      0.41      2816\n",
            "\n",
            "    accuracy                           0.44      3721\n",
            "   macro avg       0.65      0.63      0.44      3721\n",
            "weighted avg       0.83      0.44      0.42      3721\n",
            "\n"
          ]
        }
      ]
    },
    {
      "cell_type": "code",
      "metadata": {
        "id": "110WODS9ReUZ"
      },
      "source": [
        "classifier.predict_proba[:,1]"
      ],
      "id": "110WODS9ReUZ",
      "execution_count": null,
      "outputs": []
    },
    {
      "cell_type": "markdown",
      "metadata": {
        "id": "2f53f9fa"
      },
      "source": [
        "## Final Approach"
      ],
      "id": "2f53f9fa"
    },
    {
      "cell_type": "code",
      "metadata": {
        "id": "3780a883"
      },
      "source": [
        "review = df['review_headline']"
      ],
      "id": "3780a883",
      "execution_count": 31,
      "outputs": []
    },
    {
      "cell_type": "code",
      "metadata": {
        "id": "3e97bad2"
      },
      "source": [
        "import nltk"
      ],
      "id": "3e97bad2",
      "execution_count": 32,
      "outputs": []
    },
    {
      "cell_type": "code",
      "metadata": {
        "id": "e5da640d"
      },
      "source": [
        "from nltk.corpus import stopwords \n",
        "#Stopwords are the English words which does not add much meaning to a sentence. They can safely be ignored without sacrificing the meaning of the sentence.\n",
        "from nltk.stem import SnowballStemmer\n",
        "#It is a stemming algorithm.stemming is reducing a word to its base word or stem in such a way that the words of similar kind lie under a common stem.\n",
        "stop_words = stopwords.words('english')"
      ],
      "id": "e5da640d",
      "execution_count": 33,
      "outputs": []
    },
    {
      "cell_type": "code",
      "metadata": {
        "id": "039ac9fa"
      },
      "source": [
        "snow = SnowballStemmer('english') #the stemmer requires a language parameter"
      ],
      "id": "039ac9fa",
      "execution_count": 34,
      "outputs": []
    },
    {
      "cell_type": "code",
      "metadata": {
        "id": "aca25c5b",
        "colab": {
          "base_uri": "https://localhost:8080/"
        },
        "outputId": "73b80af2-c706-4ad2-dc90-3ffdc66e2091"
      },
      "source": [
        "pip install emoji"
      ],
      "id": "aca25c5b",
      "execution_count": 35,
      "outputs": [
        {
          "output_type": "stream",
          "name": "stdout",
          "text": [
            "Collecting emoji\n",
            "  Downloading emoji-1.6.1.tar.gz (170 kB)\n",
            "\u001b[K     |████████████████████████████████| 170 kB 5.3 MB/s \n",
            "\u001b[?25hBuilding wheels for collected packages: emoji\n",
            "  Building wheel for emoji (setup.py) ... \u001b[?25l\u001b[?25hdone\n",
            "  Created wheel for emoji: filename=emoji-1.6.1-py3-none-any.whl size=169314 sha256=23ba6ccf41d9b6188c9d275607949cae80739c3d0353a09c503b75406fde2dd1\n",
            "  Stored in directory: /root/.cache/pip/wheels/ea/5f/d3/03d313ddb3c2a1a427bb4690f1621eea60fe6f2a30cc95940f\n",
            "Successfully built emoji\n",
            "Installing collected packages: emoji\n",
            "Successfully installed emoji-1.6.1\n"
          ]
        }
      ]
    },
    {
      "cell_type": "code",
      "metadata": {
        "id": "fac2ceed"
      },
      "source": [
        "import emoji\n",
        "import re\n",
        "from nltk.tokenize import word_tokenize"
      ],
      "id": "fac2ceed",
      "execution_count": 36,
      "outputs": []
    },
    {
      "cell_type": "code",
      "metadata": {
        "id": "5861068f"
      },
      "source": [
        "review = [re.sub(\"!\",\"\",txt) for txt in review] # used to replace occurrences of special characters with white space  .\n",
        "emoji_pattern = re.compile(\"[\"\n",
        "                           u\"\\U0001F600-\\U0001F64F\"  # emoticons\n",
        "                           u\"\\U0001F300-\\U0001F5FF\"  # symbols & pictographs\n",
        "                           u\"\\U0001F680-\\U0001F6FF\"  # transport & map symbols\n",
        "                           u\"\\U0001F1E0-\\U0001F1FF\"  # flags (iOS)\n",
        "                           u\"\\U00002702-\\U000027B0\"\n",
        "                           u\"\\U000024C2-\\U0001F251\"\n",
        "                           \"]+\", flags=re.UNICODE)\n",
        "def give_emoji_free_text(comm): # function to remove emojis from reviews\n",
        "    allchars = [str for str in comm]\n",
        "    emoji_list = [c for c in allchars if c in emoji.UNICODE_EMOJI]\n",
        "    clean_text = ' '.join([str for str in comm.split() if not any(i in str for i in emoji_list)])\n",
        "    return clean_text\n",
        "\n",
        "review = [give_emoji_free_text(txt) for txt in review]\n",
        "review = [give_emoji_free_text(txt) for txt in review]\n",
        "#from all reviews , readmore, -,\\d is replaced with space. \n",
        "review = [re.sub(\"READ MORE|READ MOR|READ MO\",\"\",i) for i in review]\n",
        "review = [re.sub('-','',i) for i in review]\n",
        "review = [re.sub('\\d','',i) for i in review]"
      ],
      "id": "5861068f",
      "execution_count": 37,
      "outputs": []
    },
    {
      "cell_type": "code",
      "metadata": {
        "id": "39b02870"
      },
      "source": [
        "text =[]\n",
        "setstop = ['money','purchase','penny','market','product','every']\n",
        "stopw = (stopwords.words('english'))\n",
        "stopw.extend(setstop) # extending the stop words list by adding setstop\n",
        "stopw = set(stopw)\n",
        "\n",
        "for message in review:\n",
        "    message = message.lower().strip() # converting review to lower case and also removing both leading and trailing characters.\n",
        "    words = [snow.stem(word) for word in message.split() if word not in stopw] #checking that if stop words are present in message, if word not in stopwords we will just stem it.\n",
        "    text.append(' '.join(words)) #it will create a new list of all the above stemmed words."
      ],
      "id": "39b02870",
      "execution_count": 38,
      "outputs": []
    },
    {
      "cell_type": "code",
      "metadata": {
        "id": "54c1cd10",
        "colab": {
          "base_uri": "https://localhost:8080/"
        },
        "outputId": "9c9cda6f-20e2-4e48-95e6-bc22018d9eb5"
      },
      "source": [
        "import nltk\n",
        "nltk.download('punkt')\n",
        "#This tokenizer divides a text into a list of sentences, by using an unsupervised algorithm to build a model for abbreviation words, collocations, and words that start sentences"
      ],
      "id": "54c1cd10",
      "execution_count": 39,
      "outputs": [
        {
          "output_type": "stream",
          "name": "stdout",
          "text": [
            "[nltk_data] Downloading package punkt to /root/nltk_data...\n",
            "[nltk_data]   Unzipping tokenizers/punkt.zip.\n"
          ]
        },
        {
          "output_type": "execute_result",
          "data": {
            "text/plain": [
              "True"
            ]
          },
          "metadata": {},
          "execution_count": 39
        }
      ]
    },
    {
      "cell_type": "code",
      "metadata": {
        "id": "37ed4b03"
      },
      "source": [
        "v= []\n",
        "for val in text:\n",
        "    val = str(val)\n",
        "    tokens = val.split() #spliting all words in text\n",
        "    for i in range(len(tokens)):\n",
        "        tokens[i] = tokens[i].lower() # converting each word into lower case\n",
        "    v.append(\" \".join(tokens)) # creating a new list v with all lower case tokens\n",
        "for word in range(len(v)):\n",
        "    token = word_tokenize(v[word]) #for splitting strings into tokens (nominally words). It splits tokens based on white space and punctuation.\n",
        "    for tkn in token:\n",
        "        if tkn in stopw:# checking if any stopwords present if present we will remove it.\n",
        "            token.remove(tkn)\n",
        "    v[word] = \" \".join([str(ele) for ele in token]) "
      ],
      "id": "37ed4b03",
      "execution_count": 40,
      "outputs": []
    },
    {
      "cell_type": "code",
      "metadata": {
        "id": "f629fcd3"
      },
      "source": [
        "from sklearn.feature_extraction.text import CountVectorizer,TfidfVectorizer\n",
        "#Convert a collection of text documents to a matrix of token counts.\n",
        "#Convert a collection of raw documents to a matrix of TF-IDF features.\n",
        "from sklearn.linear_model import LogisticRegression\n",
        "from sklearn.model_selection import train_test_split\n",
        "from sklearn.metrics import confusion_matrix,accuracy_score"
      ],
      "id": "f629fcd3",
      "execution_count": 41,
      "outputs": []
    },
    {
      "cell_type": "code",
      "metadata": {
        "id": "120f88f8"
      },
      "source": [
        "count_vect = CountVectorizer(max_features=5000) #Initialize a CountVectorizer object: count_vectorizer\n",
        "bow_data = count_vect.fit_transform(v).toarray() #Transforms the data into a bag of words"
      ],
      "id": "120f88f8",
      "execution_count": 42,
      "outputs": []
    },
    {
      "cell_type": "code",
      "metadata": {
        "id": "c067e853",
        "colab": {
          "base_uri": "https://localhost:8080/"
        },
        "outputId": "152574ba-2067-4cb3-d8ca-4fe2b206c299"
      },
      "source": [
        "count_vect.get_feature_names()[:10]"
      ],
      "id": "c067e853",
      "execution_count": 43,
      "outputs": [
        {
          "output_type": "execute_result",
          "data": {
            "text/plain": [
              "['abil',\n",
              " 'abl',\n",
              " 'able',\n",
              " 'absolut',\n",
              " 'abus',\n",
              " 'accept',\n",
              " 'access',\n",
              " 'accident',\n",
              " 'accord',\n",
              " 'account']"
            ]
          },
          "metadata": {},
          "execution_count": 43
        }
      ]
    },
    {
      "cell_type": "code",
      "metadata": {
        "id": "c4a23981",
        "colab": {
          "base_uri": "https://localhost:8080/"
        },
        "outputId": "2184bcc0-39a4-43e6-d259-d79205c66a69"
      },
      "source": [
        "tf_idf = TfidfVectorizer() #initialise tfid object\n",
        "tf_data = tf_idf.fit_transform(v).toarray()\n",
        "tf_data.shape"
      ],
      "id": "c4a23981",
      "execution_count": 44,
      "outputs": [
        {
          "output_type": "execute_result",
          "data": {
            "text/plain": [
              "(4652, 1702)"
            ]
          },
          "metadata": {},
          "execution_count": 44
        }
      ]
    },
    {
      "cell_type": "code",
      "metadata": {
        "id": "ccb78aa6"
      },
      "source": [
        "z = []\n",
        "import random\n",
        "for i in range(len(v)):\n",
        "    c = random.randint(0,1) # taking a raandom number between 0-1\n",
        "    z.append(c) #appending it in z\n",
        "df['Score'] = z\n",
        "y = df['Score']"
      ],
      "id": "ccb78aa6",
      "execution_count": 45,
      "outputs": []
    },
    {
      "cell_type": "code",
      "metadata": {
        "id": "7dcac5b2"
      },
      "source": [
        "x_train,x_test,y_train,y_test = train_test_split(tf_data,y) # splitting data into train and test "
      ],
      "id": "7dcac5b2",
      "execution_count": 46,
      "outputs": []
    },
    {
      "cell_type": "code",
      "metadata": {
        "id": "1c39a5aa",
        "colab": {
          "base_uri": "https://localhost:8080/"
        },
        "outputId": "27e7d55a-9bac-4a92-ff86-9f131ffccbf5"
      },
      "source": [
        "x_train.shape"
      ],
      "id": "1c39a5aa",
      "execution_count": 47,
      "outputs": [
        {
          "output_type": "execute_result",
          "data": {
            "text/plain": [
              "(3489, 1702)"
            ]
          },
          "metadata": {},
          "execution_count": 47
        }
      ]
    },
    {
      "cell_type": "code",
      "metadata": {
        "id": "690e22ea",
        "colab": {
          "base_uri": "https://localhost:8080/"
        },
        "outputId": "fcf7d7a2-7079-41c8-e521-266aa06a4c86"
      },
      "source": [
        "y_test.shape"
      ],
      "id": "690e22ea",
      "execution_count": 48,
      "outputs": [
        {
          "output_type": "execute_result",
          "data": {
            "text/plain": [
              "(1163,)"
            ]
          },
          "metadata": {},
          "execution_count": 48
        }
      ]
    },
    {
      "cell_type": "code",
      "metadata": {
        "id": "b9dcd1c9"
      },
      "source": [
        "lr = LogisticRegression(class_weight='balanced') # intialize a logistic regression function\n",
        "lr.fit(x_train,y_train) # fitting x_train and y-train data in model\n",
        "y_pred = lr.predict(x_test) #predicting the results with x-test"
      ],
      "id": "b9dcd1c9",
      "execution_count": 49,
      "outputs": []
    },
    {
      "cell_type": "code",
      "metadata": {
        "id": "8c816dfa",
        "colab": {
          "base_uri": "https://localhost:8080/"
        },
        "outputId": "93647514-6b67-44dc-90cb-7d2587991e53"
      },
      "source": [
        "accuracy_score(y_test,y_pred)"
      ],
      "id": "8c816dfa",
      "execution_count": 50,
      "outputs": [
        {
          "output_type": "execute_result",
          "data": {
            "text/plain": [
              "0.5339638865004299"
            ]
          },
          "metadata": {},
          "execution_count": 50
        }
      ]
    },
    {
      "cell_type": "code",
      "metadata": {
        "id": "fdefe20e",
        "colab": {
          "base_uri": "https://localhost:8080/"
        },
        "outputId": "7cf6caeb-dc42-4f78-ad1b-a50c365045a8"
      },
      "source": [
        "accuracy_score(y_train,lr.predict(x_train))"
      ],
      "id": "fdefe20e",
      "execution_count": 51,
      "outputs": [
        {
          "output_type": "execute_result",
          "data": {
            "text/plain": [
              "0.6807108053883635"
            ]
          },
          "metadata": {},
          "execution_count": 51
        }
      ]
    },
    {
      "cell_type": "code",
      "metadata": {
        "id": "48f63a13",
        "colab": {
          "base_uri": "https://localhost:8080/"
        },
        "outputId": "693d7065-94df-4d94-fcc9-7d7ba6f9940b"
      },
      "source": [
        "cm = confusion_matrix(y_test,y_pred)\n",
        "cm"
      ],
      "id": "48f63a13",
      "execution_count": 52,
      "outputs": [
        {
          "output_type": "execute_result",
          "data": {
            "text/plain": [
              "array([[307, 254],\n",
              "       [288, 314]])"
            ]
          },
          "metadata": {},
          "execution_count": 52
        }
      ]
    },
    {
      "cell_type": "markdown",
      "metadata": {
        "id": "981301a1"
      },
      "source": [
        "# Trying Textblob"
      ],
      "id": "981301a1"
    },
    {
      "cell_type": "code",
      "metadata": {
        "id": "3dfa77b0"
      },
      "source": [
        "from textblob import TextBlob\n",
        "#TextBlob is a Python  library for processing textual data. It provides a simple API for diving into common natural language processing (NLP) tasks such as part-of-speech tagging, noun phrase extraction, sentiment analysis, classification, translation, and more.\n",
        "\n",
        "from textblob import TextBlob\n",
        "score = []\n",
        "for i in range(len(v)):\n",
        "    bl = TextBlob(v[i])\n",
        "    score.append(bl.sentiment.polarity) # sentiment polarity score which tells if the sentiment is positive or negative"
      ],
      "id": "3dfa77b0",
      "execution_count": 53,
      "outputs": []
    },
    {
      "cell_type": "code",
      "metadata": {
        "id": "82a8e9f9"
      },
      "source": [
        "for i in range(len(score)):\n",
        "    if score[i] < 0.0: #negative score\n",
        "        score[i] = 0\n",
        "    elif score[i] > 0.0:#positive score\n",
        "        score[i] = 1\n",
        "    elif score[i] == 0.0: #neutral\n",
        "        score[i] = 0"
      ],
      "id": "82a8e9f9",
      "execution_count": 54,
      "outputs": []
    },
    {
      "cell_type": "code",
      "metadata": {
        "id": "2c207a32"
      },
      "source": [
        "df['Score'] = score"
      ],
      "id": "2c207a32",
      "execution_count": 55,
      "outputs": []
    },
    {
      "cell_type": "code",
      "metadata": {
        "id": "b1511bb7",
        "colab": {
          "base_uri": "https://localhost:8080/"
        },
        "outputId": "f28d0662-ee76-4b03-941b-aa1c50fe2523"
      },
      "source": [
        "df['Score'].value_counts()"
      ],
      "id": "b1511bb7",
      "execution_count": 56,
      "outputs": [
        {
          "output_type": "execute_result",
          "data": {
            "text/plain": [
              "0    2660\n",
              "1    1992\n",
              "Name: Score, dtype: int64"
            ]
          },
          "metadata": {},
          "execution_count": 56
        }
      ]
    },
    {
      "cell_type": "code",
      "metadata": {
        "id": "5b23d063"
      },
      "source": [
        "df.review_headline = v\n",
        "vect = TfidfVectorizer() #intialising tfid object\n",
        "X=vect.fit_transform(df.review_headline).toarray() \n",
        "\n",
        "X_df = pd.DataFrame(X,columns = vect.get_feature_names())#creating a dataframe with X rows and columns present in vect"
      ],
      "id": "5b23d063",
      "execution_count": 57,
      "outputs": []
    },
    {
      "cell_type": "code",
      "metadata": {
        "id": "6069c572"
      },
      "source": [
        "y = df['Score']"
      ],
      "id": "6069c572",
      "execution_count": 58,
      "outputs": []
    },
    {
      "cell_type": "code",
      "metadata": {
        "id": "4052e90d",
        "colab": {
          "base_uri": "https://localhost:8080/"
        },
        "outputId": "961a1da4-8ace-4c10-959c-61059cab2a12"
      },
      "source": [
        "X_train,X_test,y_train,y_test = train_test_split(X_df,y,test_size=0.7,random_state=123,stratify=y) #splitting data into train and test sets\n",
        "log_reg = LogisticRegression(penalty='l2',C=1.0).fit(X_train,y_train) #applying logistic regression to predict score.\n",
        "print(\"Trainig set:\",log_reg.score(X_train,y_train))\n",
        "print(\"Testing set:\",log_reg.score(X_test,y_test))"
      ],
      "id": "4052e90d",
      "execution_count": 59,
      "outputs": [
        {
          "output_type": "stream",
          "name": "stdout",
          "text": [
            "Trainig set: 0.956989247311828\n",
            "Testing set: 0.9361375498925392\n"
          ]
        }
      ]
    },
    {
      "cell_type": "code",
      "metadata": {
        "id": "d1e2aa65"
      },
      "source": [
        "y_pred = log_reg.predict(X_test) #predicting for X-test data"
      ],
      "id": "d1e2aa65",
      "execution_count": 60,
      "outputs": []
    },
    {
      "cell_type": "code",
      "metadata": {
        "id": "a4b46af5",
        "colab": {
          "base_uri": "https://localhost:8080/"
        },
        "outputId": "96967182-4f35-4547-fb83-275e303cfa0d"
      },
      "source": [
        "accuracy_score(y_test,y_pred)"
      ],
      "id": "a4b46af5",
      "execution_count": 61,
      "outputs": [
        {
          "output_type": "execute_result",
          "data": {
            "text/plain": [
              "0.9361375498925392"
            ]
          },
          "metadata": {},
          "execution_count": 61
        }
      ]
    },
    {
      "cell_type": "code",
      "metadata": {
        "id": "9556cadd",
        "colab": {
          "base_uri": "https://localhost:8080/"
        },
        "outputId": "1dbf8f7b-0a9c-46fb-b760-493f15b6d57b"
      },
      "source": [
        "accuracy_score(y_train,log_reg.predict(X_train))"
      ],
      "id": "9556cadd",
      "execution_count": 62,
      "outputs": [
        {
          "output_type": "execute_result",
          "data": {
            "text/plain": [
              "0.956989247311828"
            ]
          },
          "metadata": {},
          "execution_count": 62
        }
      ]
    },
    {
      "cell_type": "code",
      "metadata": {
        "id": "3cf7e31e",
        "colab": {
          "base_uri": "https://localhost:8080/"
        },
        "outputId": "dcf6b2fb-abe3-471a-c1e0-5740cfff3b21"
      },
      "source": [
        "cm = confusion_matrix(y_test,y_pred) # creating confusion matrix\n",
        "cm"
      ],
      "id": "3cf7e31e",
      "execution_count": 63,
      "outputs": [
        {
          "output_type": "execute_result",
          "data": {
            "text/plain": [
              "array([[1856,    6],\n",
              "       [ 202, 1193]])"
            ]
          },
          "metadata": {},
          "execution_count": 63
        }
      ]
    },
    {
      "cell_type": "code",
      "metadata": {
        "id": "009c6a62"
      },
      "source": [
        ""
      ],
      "id": "009c6a62",
      "execution_count": null,
      "outputs": []
    }
  ]
}