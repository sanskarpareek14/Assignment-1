{
 "cells": [
  {
   "cell_type": "markdown",
   "id": "6e6f2a4e",
   "metadata": {},
   "source": [
    "# ASSIGNMENT - 5\n",
    "# REFERRAL ID - SIRSS2109"
   ]
  },
  {
   "cell_type": "markdown",
   "id": "0a3bd7c9",
   "metadata": {},
   "source": [
    "### Q1. Given a list of integers, write a function to return the sum of all prime numbers in that list."
   ]
  },
  {
   "cell_type": "code",
   "execution_count": 1,
   "id": "14b8b543",
   "metadata": {},
   "outputs": [
    {
     "name": "stdout",
     "output_type": "stream",
     "text": [
      "56\n"
     ]
    }
   ],
   "source": [
    "lst = [11, 5, 17, 18, 23]\n",
    "def isprime_sum(x):\n",
    "    sum = 0\n",
    "    for i in range(0,len(lst)):\n",
    "        n = lst[i]\n",
    "        if n>1:\n",
    "            prime = True\n",
    "            for j in range(2,int(n**0.5)+1):\n",
    "                if n%j == 0:\n",
    "                    prime = False\n",
    "                    break\n",
    "            if prime:\n",
    "                sum += n\n",
    "        else:\n",
    "            sum = 0\n",
    "    return sum\n",
    "print(isprime_sum(lst))"
   ]
  },
  {
   "cell_type": "markdown",
   "id": "f82e7cbf",
   "metadata": {},
   "source": [
    "### Q2. Given a list of integers, write a function to check whether the list is strictly increasing or not."
   ]
  },
  {
   "cell_type": "code",
   "execution_count": 3,
   "id": "5c9b53e0",
   "metadata": {},
   "outputs": [
    {
     "name": "stdout",
     "output_type": "stream",
     "text": [
      "Given list is not strictly increasing\n"
     ]
    }
   ],
   "source": [
    "lst = [12,13,45,66,87,34]\n",
    "def check_list(x):\n",
    "    check = True\n",
    "    for i in range(1,len(lst)):\n",
    "        if lst[i-1] > lst[i]:\n",
    "            print('Given list is not strictly increasing')\n",
    "            check = False\n",
    "    if check:\n",
    "        print('Given list is strictly increasing')\n",
    "a = check_list(lst)\n",
    "a"
   ]
  },
  {
   "cell_type": "markdown",
   "id": "ea8a0440",
   "metadata": {},
   "source": [
    "### Q3. Write a function to check whether a given list is expanding or not (the difference between adjacent elements should keep on increasing)."
   ]
  },
  {
   "cell_type": "code",
   "execution_count": 5,
   "id": "f81f4859",
   "metadata": {},
   "outputs": [
    {
     "name": "stdout",
     "output_type": "stream",
     "text": [
      "List is Expanding\n"
     ]
    }
   ],
   "source": [
    "lst = [2,4,7,12,20,32,45]\n",
    "def check_expan_list(x):\n",
    "    check = True\n",
    "    for i in range(1,len(lst)-1):\n",
    "        if (lst[i] - lst[i-1]) > (lst[i+1] - lst[i]):\n",
    "            check = False\n",
    "    if check:\n",
    "        print('List is Expanding')\n",
    "    else:\n",
    "        print('List is not expanding')\n",
    "a = check_expan_list(lst)\n",
    "a"
   ]
  },
  {
   "cell_type": "markdown",
   "id": "4b278776",
   "metadata": {},
   "source": [
    "### Q4. Write a function to calculate all permutations of a given string. (Without using itertools)."
   ]
  },
  {
   "cell_type": "code",
   "execution_count": 6,
   "id": "551546bf",
   "metadata": {},
   "outputs": [
    {
     "name": "stdout",
     "output_type": "stream",
     "text": [
      "Enter a string: ABC\n"
     ]
    },
    {
     "data": {
      "text/plain": [
       "['ABC', 'BAC', 'BCA', 'ACB', 'CAB', 'CBA']"
      ]
     },
     "execution_count": 6,
     "metadata": {},
     "output_type": "execute_result"
    }
   ],
   "source": [
    "def permutation(x):\n",
    "    if len(x)==1:\n",
    "        return [x]\n",
    "    perm = permutation(x[1:])\n",
    "    first_x = x[0]\n",
    "    rem_slt = []\n",
    "    for i in perm:\n",
    "        for j in range(len(i)+1):\n",
    "            rem_slt.append(i[:j]+first_x+i[j:])\n",
    "    return rem_slt\n",
    "str = input('Enter a string: ')\n",
    "permutation(str)"
   ]
  },
  {
   "cell_type": "code",
   "execution_count": null,
   "id": "f6676688",
   "metadata": {},
   "outputs": [],
   "source": []
  }
 ],
 "metadata": {
  "kernelspec": {
   "display_name": "Python 3",
   "language": "python",
   "name": "python3"
  },
  "language_info": {
   "codemirror_mode": {
    "name": "ipython",
    "version": 3
   },
   "file_extension": ".py",
   "mimetype": "text/x-python",
   "name": "python",
   "nbconvert_exporter": "python",
   "pygments_lexer": "ipython3",
   "version": "3.8.8"
  }
 },
 "nbformat": 4,
 "nbformat_minor": 5
}
